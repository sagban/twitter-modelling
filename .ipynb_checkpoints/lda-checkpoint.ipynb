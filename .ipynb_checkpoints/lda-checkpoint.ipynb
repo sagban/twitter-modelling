{
 "cells": [
  {
   "cell_type": "markdown",
   "metadata": {},
   "source": [
    "import preprocess_data\n"
   ]
  },
  {
   "cell_type": "code",
   "execution_count": 24,
   "metadata": {},
   "outputs": [],
   "source": [
    "import pandas as pd\n",
    "import gensim\n",
    "from gensim.utils import simple_preprocess\n",
    "from gensim.parsing.preprocessing import STOPWORDS\n",
    "from nltk.stem import WordNetLemmatizer, SnowballStemmer\n",
    "from nltk.stem.porter import *\n",
    "import nltk\n",
    "import numpy as np\n",
    "import re"
   ]
  },
  {
   "cell_type": "code",
   "execution_count": 25,
   "metadata": {},
   "outputs": [],
   "source": [
    "fileName = \"./CSV/data1.csv\""
   ]
  },
  {
   "cell_type": "code",
   "execution_count": 26,
   "metadata": {},
   "outputs": [
    {
     "name": "stderr",
     "output_type": "stream",
     "text": [
      "[nltk_data] Downloading package wordnet to /Users/sagban/nltk_data...\n",
      "[nltk_data]   Package wordnet is already up-to-date!\n"
     ]
    }
   ],
   "source": [
    "np.random.seed(2018)\n",
    "nltk.download('wordnet')\n",
    "\n",
    "\n",
    "def lemmatize_stemming(text):\n",
    "    stemmer = PorterStemmer()\n",
    "    return stemmer.stem(WordNetLemmatizer().lemmatize(text, pos='v'))\n",
    "\n",
    "def clean_data(text):\n",
    "\t# Remove URL\n",
    "    result = re.sub(r\"http\\S+\", \"\", text)\n",
    "    # Remove User\n",
    "    result = re.sub('@[^\\s]+','',text)\n",
    "    #Fix Misspelled\n",
    "    result = re.sub(r'[^a-z]', '', text)\n",
    "\n",
    "    return result\n",
    "\n",
    "def preprocess(text):\n",
    "\n",
    "\t# Cleaning the data\n",
    "    # text = clean_data(text)\n",
    "    result = []\n",
    "\n",
    "    # Tokenisation and Removing STOPWORDS\n",
    "    for token in gensim.utils.simple_preprocess(text):\n",
    "        if token not in gensim.parsing.preprocessing.STOPWORDS and len(token) > 3:\n",
    "            lem = lemmatize_stemming(token)\n",
    "            result.append(lem)\n",
    "    return result\n"
   ]
  },
  {
   "cell_type": "code",
   "execution_count": 27,
   "metadata": {},
   "outputs": [],
   "source": [
    "def preprocess_data(fileName):\n",
    "\n",
    "\tdata = pd.read_csv(fileName, error_bad_lines=False, encoding='latin-1')\n",
    "\tdata_text = data[['text']]\n",
    "\tdata_text[\"index\"] = data_text.index\n",
    "\tdocument = data_text\n",
    "\n",
    "\tprocessed_docs = document['text'].map(preprocess)\n",
    "\treturn processed_docs"
   ]
  },
  {
   "cell_type": "code",
   "execution_count": 23,
   "metadata": {},
   "outputs": [
    {
     "data": {
      "text/plain": [
       "[]"
      ]
     },
     "execution_count": 23,
     "metadata": {},
     "output_type": "execute_result"
    }
   ],
   "source": [
    "preprocess_data.preprocess(\"RT @centerofright: First claim  cdc . cdcs made on\")"
   ]
  },
  {
   "cell_type": "code",
   "execution_count": null,
   "metadata": {},
   "outputs": [],
   "source": []
  }
 ],
 "metadata": {
  "kernelspec": {
   "display_name": "Python 3",
   "language": "python",
   "name": "python3"
  },
  "language_info": {
   "codemirror_mode": {
    "name": "ipython",
    "version": 3
   },
   "file_extension": ".py",
   "mimetype": "text/x-python",
   "name": "python",
   "nbconvert_exporter": "python",
   "pygments_lexer": "ipython3",
   "version": "3.6.4"
  }
 },
 "nbformat": 4,
 "nbformat_minor": 2
}
