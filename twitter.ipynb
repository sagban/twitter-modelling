{
 "cells": [
  {
   "cell_type": "code",
   "execution_count": 2,
   "metadata": {},
   "outputs": [],
   "source": [
    "import pandas as pd\n"
   ]
  },
  {
   "cell_type": "code",
   "execution_count": 22,
   "metadata": {},
   "outputs": [],
   "source": [
    "fileName = \"./CSV/data1.csv\""
   ]
  },
  {
   "cell_type": "code",
   "execution_count": 26,
   "metadata": {},
   "outputs": [],
   "source": [
    "\n",
    "data = pd.read_csv(fileName, error_bad_lines=False);"
   ]
  },
  {
   "cell_type": "code",
   "execution_count": 27,
   "metadata": {},
   "outputs": [],
   "source": [
    "data_text = data[['text']]"
   ]
  },
  {
   "cell_type": "code",
   "execution_count": 29,
   "metadata": {},
   "outputs": [
    {
     "data": {
      "text/plain": [
       "RangeIndex(start=0, stop=2000, step=1)"
      ]
     },
     "execution_count": 29,
     "metadata": {},
     "output_type": "execute_result"
    }
   ],
   "source": [
    "data_text.index"
   ]
  },
  {
   "cell_type": "code",
   "execution_count": 31,
   "metadata": {},
   "outputs": [],
   "source": [
    "data_text[\"index\"] = data_text.index"
   ]
  },
  {
   "cell_type": "code",
   "execution_count": 33,
   "metadata": {},
   "outputs": [
    {
     "data": {
      "text/html": [
       "<div>\n",
       "<style scoped>\n",
       "    .dataframe tbody tr th:only-of-type {\n",
       "        vertical-align: middle;\n",
       "    }\n",
       "\n",
       "    .dataframe tbody tr th {\n",
       "        vertical-align: top;\n",
       "    }\n",
       "\n",
       "    .dataframe thead th {\n",
       "        text-align: right;\n",
       "    }\n",
       "</style>\n",
       "<table border=\"1\" class=\"dataframe\">\n",
       "  <thead>\n",
       "    <tr style=\"text-align: right;\">\n",
       "      <th></th>\n",
       "      <th>text</th>\n",
       "      <th>index</th>\n",
       "    </tr>\n",
       "  </thead>\n",
       "  <tbody>\n",
       "    <tr>\n",
       "      <th>0</th>\n",
       "      <td>Modi's Ayushman Bharat is born through caesare...</td>\n",
       "      <td>0</td>\n",
       "    </tr>\n",
       "    <tr>\n",
       "      <th>1</th>\n",
       "      <td>RT @centerofright: First claim made on #Ayushm...</td>\n",
       "      <td>1</td>\n",
       "    </tr>\n",
       "    <tr>\n",
       "      <th>2</th>\n",
       "      <td>RT @drdineshias: First claim raised under #Ayu...</td>\n",
       "      <td>2</td>\n",
       "    </tr>\n",
       "    <tr>\n",
       "      <th>3</th>\n",
       "      <td>RT @centerofright: First claim made on #Ayushm...</td>\n",
       "      <td>3</td>\n",
       "    </tr>\n",
       "    <tr>\n",
       "      <th>4</th>\n",
       "      <td>RT @centerofright: First claim made on #Ayushm...</td>\n",
       "      <td>4</td>\n",
       "    </tr>\n",
       "    <tr>\n",
       "      <th>5</th>\n",
       "      <td>First claim raised under Ayushman Bharat with ...</td>\n",
       "      <td>5</td>\n",
       "    </tr>\n",
       "    <tr>\n",
       "      <th>6</th>\n",
       "      <td>RT @SureshNakhua: #ModiCare aka Ayushman Bhara...</td>\n",
       "      <td>6</td>\n",
       "    </tr>\n",
       "    <tr>\n",
       "      <th>7</th>\n",
       "      <td>RT @centerofright: First claim made on #Ayushm...</td>\n",
       "      <td>7</td>\n",
       "    </tr>\n",
       "    <tr>\n",
       "      <th>8</th>\n",
       "      <td>RT @drdineshias: First claim raised under #Ayu...</td>\n",
       "      <td>8</td>\n",
       "    </tr>\n",
       "    <tr>\n",
       "      <th>9</th>\n",
       "      <td>AAP puts Ayushman Bharat for Delhi in jeopardy...</td>\n",
       "      <td>9</td>\n",
       "    </tr>\n",
       "    <tr>\n",
       "      <th>10</th>\n",
       "      <td>RT @centerofright: First claim made on #Ayushm...</td>\n",
       "      <td>10</td>\n",
       "    </tr>\n",
       "    <tr>\n",
       "      <th>11</th>\n",
       "      <td>RT @centerofright: First claim made on #Ayushm...</td>\n",
       "      <td>11</td>\n",
       "    </tr>\n",
       "    <tr>\n",
       "      <th>12</th>\n",
       "      <td>RT @centerofright: First claim made on #Ayushm...</td>\n",
       "      <td>12</td>\n",
       "    </tr>\n",
       "    <tr>\n",
       "      <th>13</th>\n",
       "      <td>RT @centerofright: First claim made on #Ayushm...</td>\n",
       "      <td>13</td>\n",
       "    </tr>\n",
       "    <tr>\n",
       "      <th>14</th>\n",
       "      <td>RT @centerofright: First claim made on #Ayushm...</td>\n",
       "      <td>14</td>\n",
       "    </tr>\n",
       "    <tr>\n",
       "      <th>15</th>\n",
       "      <td>RT @centerofright: First claim made on #Ayushm...</td>\n",
       "      <td>15</td>\n",
       "    </tr>\n",
       "    <tr>\n",
       "      <th>16</th>\n",
       "      <td>RT @centerofright: First claim made on #Ayushm...</td>\n",
       "      <td>16</td>\n",
       "    </tr>\n",
       "    <tr>\n",
       "      <th>17</th>\n",
       "      <td>RT @drdineshias: First claim raised under #Ayu...</td>\n",
       "      <td>17</td>\n",
       "    </tr>\n",
       "    <tr>\n",
       "      <th>18</th>\n",
       "      <td>RT @centerofright: First claim made on #Ayushm...</td>\n",
       "      <td>18</td>\n",
       "    </tr>\n",
       "    <tr>\n",
       "      <th>19</th>\n",
       "      <td>RT @EconomicTimes: #ModiCare's 1st claim was r...</td>\n",
       "      <td>19</td>\n",
       "    </tr>\n",
       "    <tr>\n",
       "      <th>20</th>\n",
       "      <td>RT @NHMGujarat: Mission Director @NHMGujarat h...</td>\n",
       "      <td>20</td>\n",
       "    </tr>\n",
       "    <tr>\n",
       "      <th>21</th>\n",
       "      <td>RT @centerofright: First claim made on #Ayushm...</td>\n",
       "      <td>21</td>\n",
       "    </tr>\n",
       "    <tr>\n",
       "      <th>22</th>\n",
       "      <td>Two days after launch, Ayushman Bharat has its...</td>\n",
       "      <td>22</td>\n",
       "    </tr>\n",
       "    <tr>\n",
       "      <th>23</th>\n",
       "      <td>Two days after launch, Ayushman Bharat has its...</td>\n",
       "      <td>23</td>\n",
       "    </tr>\n",
       "    <tr>\n",
       "      <th>24</th>\n",
       "      <td>RT @drdineshias: First claim raised under #Ayu...</td>\n",
       "      <td>24</td>\n",
       "    </tr>\n",
       "    <tr>\n",
       "      <th>25</th>\n",
       "      <td>RT @centerofright: First claim made on #Ayushm...</td>\n",
       "      <td>25</td>\n",
       "    </tr>\n",
       "    <tr>\n",
       "      <th>26</th>\n",
       "      <td>RT @centerofright: First claim made on #Ayushm...</td>\n",
       "      <td>26</td>\n",
       "    </tr>\n",
       "    <tr>\n",
       "      <th>27</th>\n",
       "      <td>RT @AyushmanNHA: First claim raised under #Ayu...</td>\n",
       "      <td>27</td>\n",
       "    </tr>\n",
       "    <tr>\n",
       "      <th>28</th>\n",
       "      <td>RT @drdineshias: First claim raised under #Ayu...</td>\n",
       "      <td>28</td>\n",
       "    </tr>\n",
       "    <tr>\n",
       "      <th>29</th>\n",
       "      <td>RT @MrsGandhi: Mega health plan crippled as AA...</td>\n",
       "      <td>29</td>\n",
       "    </tr>\n",
       "    <tr>\n",
       "      <th>...</th>\n",
       "      <td>...</td>\n",
       "      <td>...</td>\n",
       "    </tr>\n",
       "    <tr>\n",
       "      <th>1970</th>\n",
       "      <td>RT @khanamirullah: The Ayushma  plan is typica...</td>\n",
       "      <td>1970</td>\n",
       "    </tr>\n",
       "    <tr>\n",
       "      <th>1971</th>\n",
       "      <td>�__�_��_��_��__�_��__ �_���� �_���� �_��_��_��...</td>\n",
       "      <td>1971</td>\n",
       "    </tr>\n",
       "    <tr>\n",
       "      <th>1972</th>\n",
       "      <td>RT @AyushmanNHA: First claim raised under #Ayu...</td>\n",
       "      <td>1972</td>\n",
       "    </tr>\n",
       "    <tr>\n",
       "      <th>1973</th>\n",
       "      <td>RT @mlkhattar: 19 day old Karishma from Karnal...</td>\n",
       "      <td>1973</td>\n",
       "    </tr>\n",
       "    <tr>\n",
       "      <th>1974</th>\n",
       "      <td>RT @narendramodi: During the 28th PRAGATI Sess...</td>\n",
       "      <td>1974</td>\n",
       "    </tr>\n",
       "    <tr>\n",
       "      <th>1975</th>\n",
       "      <td>RT @narendramodi: During the 28th PRAGATI Sess...</td>\n",
       "      <td>1975</td>\n",
       "    </tr>\n",
       "    <tr>\n",
       "      <th>1976</th>\n",
       "      <td>RT @JPNadda: Haryana girl becomes India��s fir...</td>\n",
       "      <td>1976</td>\n",
       "    </tr>\n",
       "    <tr>\n",
       "      <th>1977</th>\n",
       "      <td>Write Prophesy Ayushman Bharat (Gov't Health I...</td>\n",
       "      <td>1977</td>\n",
       "    </tr>\n",
       "    <tr>\n",
       "      <th>1978</th>\n",
       "      <td>RT @ANI: Haryana: 19-days-old Karishma, born a...</td>\n",
       "      <td>1978</td>\n",
       "    </tr>\n",
       "    <tr>\n",
       "      <th>1979</th>\n",
       "      <td>RT @AyushmanNHA: First claim raised under #Ayu...</td>\n",
       "      <td>1979</td>\n",
       "    </tr>\n",
       "    <tr>\n",
       "      <th>1980</th>\n",
       "      <td>RT @mlkhattar: 19 day old Karishma from Karnal...</td>\n",
       "      <td>1980</td>\n",
       "    </tr>\n",
       "    <tr>\n",
       "      <th>1981</th>\n",
       "      <td>RT @kavita_tewari: First baby angel from #Ayus...</td>\n",
       "      <td>1981</td>\n",
       "    </tr>\n",
       "    <tr>\n",
       "      <th>1982</th>\n",
       "      <td>RT @DrSubhashMoS: Haryana girl becomes India��...</td>\n",
       "      <td>1982</td>\n",
       "    </tr>\n",
       "    <tr>\n",
       "      <th>1983</th>\n",
       "      <td>By building toilets, Modi made aam admi vulner...</td>\n",
       "      <td>1983</td>\n",
       "    </tr>\n",
       "    <tr>\n",
       "      <th>1984</th>\n",
       "      <td>RT @Rao_InderjitS: Haryana girl becomes India�...</td>\n",
       "      <td>1984</td>\n",
       "    </tr>\n",
       "    <tr>\n",
       "      <th>1985</th>\n",
       "      <td>RT @Ra_THORe: Born on Independence Day, Haryan...</td>\n",
       "      <td>1985</td>\n",
       "    </tr>\n",
       "    <tr>\n",
       "      <th>1986</th>\n",
       "      <td>RT @spmrfoundation: Haryana girl becomes India...</td>\n",
       "      <td>1986</td>\n",
       "    </tr>\n",
       "    <tr>\n",
       "      <th>1987</th>\n",
       "      <td>RT @VinodChavdaBJP: Haryana girl becomes India...</td>\n",
       "      <td>1987</td>\n",
       "    </tr>\n",
       "    <tr>\n",
       "      <th>1988</th>\n",
       "      <td>RT @Rao_InderjitS: Haryana girl becomes India�...</td>\n",
       "      <td>1988</td>\n",
       "    </tr>\n",
       "    <tr>\n",
       "      <th>1989</th>\n",
       "      <td>Haryana girl becomes India��s first newborn be...</td>\n",
       "      <td>1989</td>\n",
       "    </tr>\n",
       "    <tr>\n",
       "      <th>1990</th>\n",
       "      <td>RT @SidharthNSingh: Pilot run of Ayushman Bhar...</td>\n",
       "      <td>1990</td>\n",
       "    </tr>\n",
       "    <tr>\n",
       "      <th>1991</th>\n",
       "      <td>RT @drdineshias: First claim raised under #Ayu...</td>\n",
       "      <td>1991</td>\n",
       "    </tr>\n",
       "    <tr>\n",
       "      <th>1992</th>\n",
       "      <td>RT @kuljeetschahal: Haryana girl becomes India...</td>\n",
       "      <td>1992</td>\n",
       "    </tr>\n",
       "    <tr>\n",
       "      <th>1993</th>\n",
       "      <td>RT @kuljeetschahal: Haryana girl becomes India...</td>\n",
       "      <td>1993</td>\n",
       "    </tr>\n",
       "    <tr>\n",
       "      <th>1994</th>\n",
       "      <td>RT @SidharthNSingh: Pilot run of Ayushman Bhar...</td>\n",
       "      <td>1994</td>\n",
       "    </tr>\n",
       "    <tr>\n",
       "      <th>1995</th>\n",
       "      <td>RT @Ra_THORe: Born on Independence Day, Haryan...</td>\n",
       "      <td>1995</td>\n",
       "    </tr>\n",
       "    <tr>\n",
       "      <th>1996</th>\n",
       "      <td>RT @JPNadda: Haryana girl becomes India��s fir...</td>\n",
       "      <td>1996</td>\n",
       "    </tr>\n",
       "    <tr>\n",
       "      <th>1997</th>\n",
       "      <td>RT @mlkhattar: 19 day old Karishma from Karnal...</td>\n",
       "      <td>1997</td>\n",
       "    </tr>\n",
       "    <tr>\n",
       "      <th>1998</th>\n",
       "      <td>RT @JPNadda: Haryana girl becomes India��s fir...</td>\n",
       "      <td>1998</td>\n",
       "    </tr>\n",
       "    <tr>\n",
       "      <th>1999</th>\n",
       "      <td>RT @amitsurg: Ask doctors what they think abou...</td>\n",
       "      <td>1999</td>\n",
       "    </tr>\n",
       "  </tbody>\n",
       "</table>\n",
       "<p>2000 rows × 2 columns</p>\n",
       "</div>"
      ],
      "text/plain": [
       "                                                   text  index\n",
       "0     Modi's Ayushman Bharat is born through caesare...      0\n",
       "1     RT @centerofright: First claim made on #Ayushm...      1\n",
       "2     RT @drdineshias: First claim raised under #Ayu...      2\n",
       "3     RT @centerofright: First claim made on #Ayushm...      3\n",
       "4     RT @centerofright: First claim made on #Ayushm...      4\n",
       "5     First claim raised under Ayushman Bharat with ...      5\n",
       "6     RT @SureshNakhua: #ModiCare aka Ayushman Bhara...      6\n",
       "7     RT @centerofright: First claim made on #Ayushm...      7\n",
       "8     RT @drdineshias: First claim raised under #Ayu...      8\n",
       "9     AAP puts Ayushman Bharat for Delhi in jeopardy...      9\n",
       "10    RT @centerofright: First claim made on #Ayushm...     10\n",
       "11    RT @centerofright: First claim made on #Ayushm...     11\n",
       "12    RT @centerofright: First claim made on #Ayushm...     12\n",
       "13    RT @centerofright: First claim made on #Ayushm...     13\n",
       "14    RT @centerofright: First claim made on #Ayushm...     14\n",
       "15    RT @centerofright: First claim made on #Ayushm...     15\n",
       "16    RT @centerofright: First claim made on #Ayushm...     16\n",
       "17    RT @drdineshias: First claim raised under #Ayu...     17\n",
       "18    RT @centerofright: First claim made on #Ayushm...     18\n",
       "19    RT @EconomicTimes: #ModiCare's 1st claim was r...     19\n",
       "20    RT @NHMGujarat: Mission Director @NHMGujarat h...     20\n",
       "21    RT @centerofright: First claim made on #Ayushm...     21\n",
       "22    Two days after launch, Ayushman Bharat has its...     22\n",
       "23    Two days after launch, Ayushman Bharat has its...     23\n",
       "24    RT @drdineshias: First claim raised under #Ayu...     24\n",
       "25    RT @centerofright: First claim made on #Ayushm...     25\n",
       "26    RT @centerofright: First claim made on #Ayushm...     26\n",
       "27    RT @AyushmanNHA: First claim raised under #Ayu...     27\n",
       "28    RT @drdineshias: First claim raised under #Ayu...     28\n",
       "29    RT @MrsGandhi: Mega health plan crippled as AA...     29\n",
       "...                                                 ...    ...\n",
       "1970  RT @khanamirullah: The Ayushma  plan is typica...   1970\n",
       "1971  �__�_��_��_��__�_��__ �_���� �_���� �_��_��_��...   1971\n",
       "1972  RT @AyushmanNHA: First claim raised under #Ayu...   1972\n",
       "1973  RT @mlkhattar: 19 day old Karishma from Karnal...   1973\n",
       "1974  RT @narendramodi: During the 28th PRAGATI Sess...   1974\n",
       "1975  RT @narendramodi: During the 28th PRAGATI Sess...   1975\n",
       "1976  RT @JPNadda: Haryana girl becomes India��s fir...   1976\n",
       "1977  Write Prophesy Ayushman Bharat (Gov't Health I...   1977\n",
       "1978  RT @ANI: Haryana: 19-days-old Karishma, born a...   1978\n",
       "1979  RT @AyushmanNHA: First claim raised under #Ayu...   1979\n",
       "1980  RT @mlkhattar: 19 day old Karishma from Karnal...   1980\n",
       "1981  RT @kavita_tewari: First baby angel from #Ayus...   1981\n",
       "1982  RT @DrSubhashMoS: Haryana girl becomes India��...   1982\n",
       "1983  By building toilets, Modi made aam admi vulner...   1983\n",
       "1984  RT @Rao_InderjitS: Haryana girl becomes India�...   1984\n",
       "1985  RT @Ra_THORe: Born on Independence Day, Haryan...   1985\n",
       "1986  RT @spmrfoundation: Haryana girl becomes India...   1986\n",
       "1987  RT @VinodChavdaBJP: Haryana girl becomes India...   1987\n",
       "1988  RT @Rao_InderjitS: Haryana girl becomes India�...   1988\n",
       "1989  Haryana girl becomes India��s first newborn be...   1989\n",
       "1990  RT @SidharthNSingh: Pilot run of Ayushman Bhar...   1990\n",
       "1991  RT @drdineshias: First claim raised under #Ayu...   1991\n",
       "1992  RT @kuljeetschahal: Haryana girl becomes India...   1992\n",
       "1993  RT @kuljeetschahal: Haryana girl becomes India...   1993\n",
       "1994  RT @SidharthNSingh: Pilot run of Ayushman Bhar...   1994\n",
       "1995  RT @Ra_THORe: Born on Independence Day, Haryan...   1995\n",
       "1996  RT @JPNadda: Haryana girl becomes India��s fir...   1996\n",
       "1997  RT @mlkhattar: 19 day old Karishma from Karnal...   1997\n",
       "1998  RT @JPNadda: Haryana girl becomes India��s fir...   1998\n",
       "1999  RT @amitsurg: Ask doctors what they think abou...   1999\n",
       "\n",
       "[2000 rows x 2 columns]"
      ]
     },
     "execution_count": 33,
     "metadata": {},
     "output_type": "execute_result"
    }
   ],
   "source": [
    "data_text\n"
   ]
  },
  {
   "cell_type": "code",
   "execution_count": 34,
   "metadata": {},
   "outputs": [
    {
     "name": "stdout",
     "output_type": "stream",
     "text": [
      "2000\n"
     ]
    }
   ],
   "source": [
    "print(len(data_text))"
   ]
  },
  {
   "cell_type": "code",
   "execution_count": 35,
   "metadata": {},
   "outputs": [],
   "source": [
    "document = data_text"
   ]
  },
  {
   "cell_type": "code",
   "execution_count": 36,
   "metadata": {},
   "outputs": [
    {
     "name": "stdout",
     "output_type": "stream",
     "text": [
      "                                                text  index\n",
      "0  Modi's Ayushman Bharat is born through caesare...      0\n",
      "1  RT @centerofright: First claim made on #Ayushm...      1\n",
      "2  RT @drdineshias: First claim raised under #Ayu...      2\n",
      "3  RT @centerofright: First claim made on #Ayushm...      3\n",
      "4  RT @centerofright: First claim made on #Ayushm...      4\n",
      "5  First claim raised under Ayushman Bharat with ...      5\n",
      "6  RT @SureshNakhua: #ModiCare aka Ayushman Bhara...      6\n",
      "7  RT @centerofright: First claim made on #Ayushm...      7\n",
      "8  RT @drdineshias: First claim raised under #Ayu...      8\n",
      "9  AAP puts Ayushman Bharat for Delhi in jeopardy...      9\n"
     ]
    }
   ],
   "source": [
    "print(document[:10])"
   ]
  },
  {
   "cell_type": "code",
   "execution_count": 37,
   "metadata": {},
   "outputs": [
    {
     "ename": "ImportError",
     "evalue": "No module named gensim",
     "output_type": "error",
     "traceback": [
      "\u001b[0;31m---------------------------------------------------------------------------\u001b[0m",
      "\u001b[0;31mImportError\u001b[0m                               Traceback (most recent call last)",
      "\u001b[0;32m<ipython-input-37-652e58c0fb73>\u001b[0m in \u001b[0;36m<module>\u001b[0;34m()\u001b[0m\n\u001b[1;32m      1\u001b[0m \u001b[0;34m\u001b[0m\u001b[0m\n\u001b[0;32m----> 2\u001b[0;31m \u001b[0;32mimport\u001b[0m \u001b[0mgensim\u001b[0m\u001b[0;34m\u001b[0m\u001b[0m\n\u001b[0m",
      "\u001b[0;31mImportError\u001b[0m: No module named gensim"
     ]
    }
   ],
   "source": [
    "\n",
    "import gensim"
   ]
  },
  {
   "cell_type": "code",
   "execution_count": 38,
   "metadata": {},
   "outputs": [],
   "source": [
    "import gensim\n",
    "from gensim.utils import simple_preprocess\n",
    "from gensim.parsing.preprocessing import STOPWORDS\n",
    "from nltk.stem import WordNetLemmatizer, SnowballStemmer\n",
    "from nltk.stem.porter import *"
   ]
  },
  {
   "cell_type": "code",
   "execution_count": 39,
   "metadata": {},
   "outputs": [],
   "source": [
    "import nltk"
   ]
  },
  {
   "cell_type": "code",
   "execution_count": 40,
   "metadata": {},
   "outputs": [],
   "source": [
    "import numpy as np"
   ]
  },
  {
   "cell_type": "code",
   "execution_count": 41,
   "metadata": {},
   "outputs": [],
   "source": [
    "np.random.seed(2018)"
   ]
  },
  {
   "cell_type": "code",
   "execution_count": 42,
   "metadata": {},
   "outputs": [
    {
     "name": "stderr",
     "output_type": "stream",
     "text": [
      "[nltk_data] Downloading package wordnet to /Users/sagban/nltk_data...\n",
      "[nltk_data]   Unzipping corpora/wordnet.zip.\n"
     ]
    },
    {
     "data": {
      "text/plain": [
       "True"
      ]
     },
     "execution_count": 42,
     "metadata": {},
     "output_type": "execute_result"
    }
   ],
   "source": [
    "nltk.download('wordnet')"
   ]
  },
  {
   "cell_type": "code",
   "execution_count": 46,
   "metadata": {},
   "outputs": [],
   "source": [
    "def lemmatize_stemming(text):\n",
    "    stemmer = PorterStemmer()\n",
    "    return stemmer.stem(WordNetLemmatizer().lemmatize(text, pos='v'))"
   ]
  },
  {
   "cell_type": "code",
   "execution_count": 53,
   "metadata": {},
   "outputs": [
    {
     "data": {
      "text/plain": [
       "u'sleep'"
      ]
     },
     "execution_count": 53,
     "metadata": {},
     "output_type": "execute_result"
    }
   ],
   "source": [
    "lemmatize_stemming(\"sleeps\")"
   ]
  },
  {
   "cell_type": "code",
   "execution_count": 64,
   "metadata": {},
   "outputs": [],
   "source": [
    "def preprocess(text):\n",
    "    result = []\n",
    "    for token in gensim.utils.simple_preprocess(text):\n",
    "        if token not in gensim.parsing.preprocessing.STOPWORDS and len(token) > 3:\n",
    "            result.append(lemmatize_stemming(token))\n",
    "    return result"
   ]
  },
  {
   "cell_type": "code",
   "execution_count": 66,
   "metadata": {},
   "outputs": [
    {
     "data": {
      "text/plain": [
       "[u'modi',\n",
       " u'ayushman',\n",
       " u'bharat',\n",
       " u'bear',\n",
       " u'caesarean',\n",
       " u'section',\n",
       " u'econom',\n",
       " u'time',\n",
       " u'http',\n",
       " u'rsbi']"
      ]
     },
     "execution_count": 66,
     "metadata": {},
     "output_type": "execute_result"
    }
   ],
   "source": [
    "preprocess(\"Modi's Ayushman Bharat is born through caesarean section - The Economic Times https://t.co/C5AVl0RSbi\")"
   ]
  },
  {
   "cell_type": "code",
   "execution_count": 68,
   "metadata": {},
   "outputs": [
    {
     "name": "stdout",
     "output_type": "stream",
     "text": [
      "original document: \n",
      "[\"'Modicare',\", 'the', \"world's\", 'biggest', 'public', 'health', 'insurance', 'scheme\\x8c\\xe6Ayushman', 'Bharat\\x8c\\xe6has', 'taken', 'birth', 'today', 'in', 'a\\x8c\\xe6Haryana', 'h\\xe4\\xf3_', 'https://t.co/t6cuGcorlC']\n",
      "\n",
      "\n",
      " tokenized and lemmatized document: \n",
      "[u'modicar', u'world', u'biggest', u'public', u'health', u'insur', u'schemeayushman', u'bharatha', u'take', u'birth', u'today', u'aharyana', u'http', u'cugcorlc']\n"
     ]
    }
   ],
   "source": [
    "doc_sample = document[document['index'] == 310].values[0][0]\n",
    "print('original document: ')\n",
    "words = []\n",
    "for word in doc_sample.split(' '):\n",
    "    words.append(word)\n",
    "print(words)\n",
    "print('\\n\\n tokenized and lemmatized document: ')\n",
    "print(preprocess(doc_sample))"
   ]
  },
  {
   "cell_type": "code",
   "execution_count": 70,
   "metadata": {},
   "outputs": [
    {
     "data": {
      "text/plain": [
       "0    [modi, ayushman, bharat, bear, caesarean, sect...\n",
       "1    [centerofright, claim, ayushmanbharat, great, ...\n",
       "2    [drdineshia, claim, rais, ayushmanbharat, babi...\n",
       "3    [centerofright, claim, ayushmanbharat, great, ...\n",
       "4    [centerofright, claim, ayushmanbharat, great, ...\n",
       "5    [claim, rais, ayushman, bharat, birth, girl, i...\n",
       "6    [sureshnakhua, modicar, ayushman, bharat, bear...\n",
       "7    [centerofright, claim, ayushmanbharat, great, ...\n",
       "8    [drdineshia, claim, rais, ayushmanbharat, babi...\n",
       "9    [put, ayushman, bharat, delhi, jeopardi, deman...\n",
       "Name: text, dtype: object"
      ]
     },
     "execution_count": 70,
     "metadata": {},
     "output_type": "execute_result"
    }
   ],
   "source": [
    "processed_docs = document['text'].map(preprocess)\n",
    "processed_docs[:10]"
   ]
  },
  {
   "cell_type": "code",
   "execution_count": 71,
   "metadata": {},
   "outputs": [
    {
     "name": "stdout",
     "output_type": "stream",
     "text": [
      "0     [modi, ayushman, bharat, bear, caesarean, sect...\n",
      "1     [centerofright, claim, ayushmanbharat, great, ...\n",
      "2     [drdineshia, claim, rais, ayushmanbharat, babi...\n",
      "3     [centerofright, claim, ayushmanbharat, great, ...\n",
      "4     [centerofright, claim, ayushmanbharat, great, ...\n",
      "5     [claim, rais, ayushman, bharat, birth, girl, i...\n",
      "6     [sureshnakhua, modicar, ayushman, bharat, bear...\n",
      "7     [centerofright, claim, ayushmanbharat, great, ...\n",
      "8     [drdineshia, claim, rais, ayushmanbharat, babi...\n",
      "9     [put, ayushman, bharat, delhi, jeopardi, deman...\n",
      "10    [centerofright, claim, ayushmanbharat, great, ...\n",
      "11    [centerofright, claim, ayushmanbharat, great, ...\n",
      "12    [centerofright, claim, ayushmanbharat, great, ...\n",
      "13    [centerofright, claim, ayushmanbharat, great, ...\n",
      "14    [centerofright, claim, ayushmanbharat, great, ...\n",
      "15    [centerofright, claim, ayushmanbharat, great, ...\n",
      "16    [centerofright, claim, ayushmanbharat, great, ...\n",
      "17    [drdineshia, claim, rais, ayushmanbharat, babi...\n",
      "18    [centerofright, claim, ayushmanbharat, great, ...\n",
      "19    [economictim, modicar, claim, rais, ayushmanbh...\n",
      "20    [nhmgujarat, mission, director, nhmgujarat, or...\n",
      "21    [centerofright, claim, ayushmanbharat, great, ...\n",
      "22    [day, launch, ayushman, bharat, babi, karishma...\n",
      "23    [day, launch, ayushman, bharat, babi, karishma...\n",
      "24    [drdineshia, claim, rais, ayushmanbharat, babi...\n",
      "25    [centerofright, claim, ayushmanbharat, great, ...\n",
      "26    [centerofright, claim, ayushmanbharat, great, ...\n",
      "27    [ayushmannha, claim, rais, ayushmanbharat, bab...\n",
      "28    [drdineshia, claim, rais, ayushmanbharat, babi...\n",
      "29    [mrsgandhi, mega, health, plan, crippl, insist...\n",
      "                            ...                        \n",
      "70    [narendramodi, pragati, session, today, review...\n",
      "71    [modi, care, take, biggest, health, financ, sc...\n",
      "72    [centerofright, claim, ayushmanbharat, great, ...\n",
      "73    [drdineshia, claim, rais, ayushmanbharat, babi...\n",
      "74    [ayushmannha, claim, rais, ayushmanbharat, bab...\n",
      "75    [centerofright, claim, ayushmanbharat, great, ...\n",
      "76    [centerofright, claim, ayushmanbharat, great, ...\n",
      "77    [centerofright, claim, ayushmanbharat, great, ...\n",
      "78    [modi, ayushman, bharat, bear, caesarean, sect...\n",
      "79    [centerofright, claim, ayushmanbharat, great, ...\n",
      "80    [drdineshia, claim, rais, ayushmanbharat, babi...\n",
      "81    [bharatharyana, babi, karishma, karnal, haryan...\n",
      "82    [centerofright, claim, ayushmanbharat, great, ...\n",
      "83    [drdineshia, claim, rais, ayushmanbharat, babi...\n",
      "84    [bharatharyana, babi, karishma, karnal, haryan...\n",
      "85    [centerofright, claim, ayushmanbharat, great, ...\n",
      "86    [centerofright, claim, ayushmanbharat, great, ...\n",
      "87    [centerofright, claim, ayushmanbharat, great, ...\n",
      "88    [drdineshia, claim, rais, ayushmanbharat, babi...\n",
      "89    [centerofright, claim, ayushmanbharat, great, ...\n",
      "90    [drdineshia, claim, rais, ayushmanbharat, babi...\n",
      "91    [centerofright, claim, ayushmanbharat, great, ...\n",
      "92    [drdineshia, claim, rais, ayushmanbharat, babi...\n",
      "93    [centerofright, claim, ayushmanbharat, great, ...\n",
      "94    [centerofright, claim, ayushmanbharat, great, ...\n",
      "95     [ibhushan, http, uolwfn, ayushman, bharat, babi]\n",
      "96    [ayushmannha, claim, rais, ayushmanbharat, bab...\n",
      "97    [drdineshia, claim, rais, ayushmanbharat, babi...\n",
      "98    [modi, ayushman, bharat, bear, caesarean, sect...\n",
      "99    [centerofright, claim, ayushmanbharat, great, ...\n",
      "Name: text, Length: 100, dtype: object\n"
     ]
    }
   ],
   "source": [
    "print(processed_docs[:100])"
   ]
  },
  {
   "cell_type": "code",
   "execution_count": 72,
   "metadata": {},
   "outputs": [],
   "source": [
    "def remove_url(text):\n",
    "    result = re.sub(r\"http\\S+\", \"\", text)\n",
    "    return result"
   ]
  },
  {
   "cell_type": "code",
   "execution_count": 73,
   "metadata": {},
   "outputs": [],
   "source": [
    "import re\n"
   ]
  },
  {
   "cell_type": "code",
   "execution_count": 74,
   "metadata": {},
   "outputs": [
    {
     "data": {
      "text/plain": [
       "\"Modi's Ayushman Bharat is born through caesarean section - The Economic Times \""
      ]
     },
     "execution_count": 74,
     "metadata": {},
     "output_type": "execute_result"
    }
   ],
   "source": [
    "remove_url(\"Modi's Ayushman Bharat is born through caesarean section - The Economic Times https://t.co/C5AVl0RSbi\")"
   ]
  },
  {
   "cell_type": "code",
   "execution_count": 76,
   "metadata": {},
   "outputs": [],
   "source": [
    "def preprocess(text):\n",
    "    text = remove_url(text)\n",
    "    result = []\n",
    "    for token in gensim.utils.simple_preprocess(text):\n",
    "        if token not in gensim.parsing.preprocessing.STOPWORDS and len(token) > 3:\n",
    "            result.append(lemmatize_stemming(token))\n",
    "    return result"
   ]
  },
  {
   "cell_type": "code",
   "execution_count": 77,
   "metadata": {},
   "outputs": [
    {
     "data": {
      "text/plain": [
       "0    [modi, ayushman, bharat, bear, caesarean, sect...\n",
       "1    [centerofright, claim, ayushmanbharat, great, ...\n",
       "2    [drdineshia, claim, rais, ayushmanbharat, babi...\n",
       "3    [centerofright, claim, ayushmanbharat, great, ...\n",
       "4    [centerofright, claim, ayushmanbharat, great, ...\n",
       "5    [claim, rais, ayushman, bharat, birth, girl, i...\n",
       "6    [sureshnakhua, modicar, ayushman, bharat, bear...\n",
       "7    [centerofright, claim, ayushmanbharat, great, ...\n",
       "8    [drdineshia, claim, rais, ayushmanbharat, babi...\n",
       "9    [put, ayushman, bharat, delhi, jeopardi, deman...\n",
       "Name: text, dtype: object"
      ]
     },
     "execution_count": 77,
     "metadata": {},
     "output_type": "execute_result"
    }
   ],
   "source": [
    "processed_docs = document['text'].map(preprocess)\n",
    "processed_docs[:10]"
   ]
  },
  {
   "cell_type": "code",
   "execution_count": 78,
   "metadata": {},
   "outputs": [
    {
     "data": {
      "text/plain": [
       "[u'modi',\n",
       " u'ayushman',\n",
       " u'bharat',\n",
       " u'bear',\n",
       " u'caesarean',\n",
       " u'section',\n",
       " u'econom',\n",
       " u'time']"
      ]
     },
     "execution_count": 78,
     "metadata": {},
     "output_type": "execute_result"
    }
   ],
   "source": [
    "preprocess(\"Modi's Ayushman Bharat is born through caesarean section - The Economic Times https://t.co/C5AVl0RSbi\")"
   ]
  },
  {
   "cell_type": "code",
   "execution_count": 79,
   "metadata": {},
   "outputs": [
    {
     "data": {
      "text/plain": [
       "[u'econom']"
      ]
     },
     "execution_count": 79,
     "metadata": {},
     "output_type": "execute_result"
    }
   ],
   "source": [
    "preprocess(\"Economic\")"
   ]
  },
  {
   "cell_type": "code",
   "execution_count": null,
   "metadata": {},
   "outputs": [],
   "source": []
  }
 ],
 "metadata": {
  "kernelspec": {
   "display_name": "Python 2",
   "language": "python",
   "name": "python2"
  },
  "language_info": {
   "codemirror_mode": {
    "name": "ipython",
    "version": 2
   },
   "file_extension": ".py",
   "mimetype": "text/x-python",
   "name": "python",
   "nbconvert_exporter": "python",
   "pygments_lexer": "ipython2",
   "version": "2.7.15"
  }
 },
 "nbformat": 4,
 "nbformat_minor": 2
}
