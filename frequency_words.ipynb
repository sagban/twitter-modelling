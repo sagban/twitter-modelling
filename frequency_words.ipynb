{
 "cells": [
  {
   "cell_type": "code",
   "execution_count": 1,
   "metadata": {},
   "outputs": [],
   "source": [
    "import pandas as pd"
   ]
  },
  {
   "cell_type": "code",
   "execution_count": 2,
   "metadata": {},
   "outputs": [],
   "source": [
    "fileName = \"./CSV/data1.csv\""
   ]
  },
  {
   "cell_type": "code",
   "execution_count": 3,
   "metadata": {},
   "outputs": [],
   "source": [
    "data = pd.read_csv(fileName, error_bad_lines=False, encoding='latin-1');"
   ]
  },
  {
   "cell_type": "code",
   "execution_count": 4,
   "metadata": {},
   "outputs": [],
   "source": [
    "data_text = data[['text']]\n"
   ]
  },
  {
   "cell_type": "code",
   "execution_count": 5,
   "metadata": {},
   "outputs": [
    {
     "data": {
      "text/plain": [
       "RangeIndex(start=0, stop=2000, step=1)"
      ]
     },
     "execution_count": 5,
     "metadata": {},
     "output_type": "execute_result"
    }
   ],
   "source": [
    "data_text.index"
   ]
  },
  {
   "cell_type": "code",
   "execution_count": 6,
   "metadata": {},
   "outputs": [],
   "source": [
    "data_text[\"index\"] = data_text.index\n"
   ]
  },
  {
   "cell_type": "code",
   "execution_count": 7,
   "metadata": {},
   "outputs": [],
   "source": [
    "data_text['datetime'] = data[['created_at']]"
   ]
  },
  {
   "cell_type": "code",
   "execution_count": 8,
   "metadata": {},
   "outputs": [
    {
     "data": {
      "text/plain": [
       "2000"
      ]
     },
     "execution_count": 8,
     "metadata": {},
     "output_type": "execute_result"
    }
   ],
   "source": [
    "(len(data_text))\n",
    "# data_text"
   ]
  },
  {
   "cell_type": "code",
   "execution_count": 9,
   "metadata": {},
   "outputs": [],
   "source": [
    "document = data_text"
   ]
  },
  {
   "cell_type": "code",
   "execution_count": 10,
   "metadata": {},
   "outputs": [
    {
     "name": "stdout",
     "output_type": "stream",
     "text": [
      "                                                text  index  \\\n",
      "0  Modi's Ayushman Bharat is born through caesare...      0   \n",
      "1  RT @centerofright: First claim made on #Ayushm...      1   \n",
      "2  RT @drdineshias: First claim raised under #Ayu...      2   \n",
      "3  RT @centerofright: First claim made on #Ayushm...      3   \n",
      "4  RT @centerofright: First claim made on #Ayushm...      4   \n",
      "5  First claim raised under Ayushman Bharat with ...      5   \n",
      "6  RT @SureshNakhua: #ModiCare aka Ayushman Bhara...      6   \n",
      "7  RT @centerofright: First claim made on #Ayushm...      7   \n",
      "8  RT @drdineshias: First claim raised under #Ayu...      8   \n",
      "9  AAP puts Ayushman Bharat for Delhi in jeopardy...      9   \n",
      "\n",
      "                         datetime  \n",
      "0  Sat Sep 01 23:58:23 +0000 2018  \n",
      "1  Sat Sep 01 23:56:53 +0000 2018  \n",
      "2  Sat Sep 01 23:54:54 +0000 2018  \n",
      "3  Sat Sep 01 23:53:54 +0000 2018  \n",
      "4  Sat Sep 01 23:52:37 +0000 2018  \n",
      "5  Sat Sep 01 23:48:16 +0000 2018  \n",
      "6  Sat Sep 01 23:44:36 +0000 2018  \n",
      "7  Sat Sep 01 23:44:14 +0000 2018  \n",
      "8  Sat Sep 01 23:42:51 +0000 2018  \n",
      "9  Sat Sep 01 23:36:07 +0000 2018  \n"
     ]
    }
   ],
   "source": [
    "print(document[:10])"
   ]
  },
  {
   "cell_type": "code",
   "execution_count": 11,
   "metadata": {},
   "outputs": [],
   "source": [
    "import gensim\n",
    "from gensim.utils import simple_preprocess\n",
    "from gensim.parsing.preprocessing import STOPWORDS\n",
    "from nltk.stem import WordNetLemmatizer, SnowballStemmer\n",
    "from nltk.stem.porter import *\n",
    "import nltk\n",
    "import numpy as np\n",
    "np.random.seed(2018)"
   ]
  },
  {
   "cell_type": "code",
   "execution_count": 12,
   "metadata": {},
   "outputs": [
    {
     "name": "stderr",
     "output_type": "stream",
     "text": [
      "[nltk_data] Downloading package wordnet to\n",
      "[nltk_data]     C:\\Users\\Aditya\\AppData\\Roaming\\nltk_data...\n",
      "[nltk_data]   Package wordnet is already up-to-date!\n"
     ]
    },
    {
     "data": {
      "text/plain": [
       "True"
      ]
     },
     "execution_count": 12,
     "metadata": {},
     "output_type": "execute_result"
    }
   ],
   "source": [
    "nltk.download('wordnet')"
   ]
  },
  {
   "cell_type": "code",
   "execution_count": 13,
   "metadata": {},
   "outputs": [],
   "source": [
    "def lemmatize(text):\n",
    "#     stemmer = PorterStemmer()\n",
    "#     return stemmer.stem(WordNetLemmatizer().lemmatize(text, pos='v'))\n",
    "    return WordNetLemmatizer().lemmatize(text, pos='v')"
   ]
  },
  {
   "cell_type": "code",
   "execution_count": 14,
   "metadata": {},
   "outputs": [
    {
     "data": {
      "text/plain": [
       "'sleep'"
      ]
     },
     "execution_count": 14,
     "metadata": {},
     "output_type": "execute_result"
    }
   ],
   "source": [
    "lemmatize(\"sleeps\")"
   ]
  },
  {
   "cell_type": "code",
   "execution_count": 15,
   "metadata": {},
   "outputs": [],
   "source": [
    "import re\n",
    "def remove_url(text):\n",
    "    result = re.sub(r\"http\\S+\", \"\", text)\n",
    "    return result"
   ]
  },
  {
   "cell_type": "code",
   "execution_count": 16,
   "metadata": {},
   "outputs": [
    {
     "data": {
      "text/plain": [
       "' dnkefnldwdj'"
      ]
     },
     "execution_count": 16,
     "metadata": {},
     "output_type": "execute_result"
    }
   ],
   "source": [
    "remove_url(\"https://sdemdsqn dnkefnldwdj\")"
   ]
  },
  {
   "cell_type": "code",
   "execution_count": 17,
   "metadata": {},
   "outputs": [],
   "source": [
    "def rem_user(t):\n",
    "    t = re.sub('#[^\\s]+','',t)\n",
    "    return re.sub('@[^\\s]+','',t)"
   ]
  },
  {
   "cell_type": "code",
   "execution_count": 18,
   "metadata": {},
   "outputs": [
    {
     "data": {
      "text/plain": [
       "'RT   First claim made on'"
      ]
     },
     "execution_count": 18,
     "metadata": {},
     "output_type": "execute_result"
    }
   ],
   "source": [
    "rem_user(\"RT @centerofright #safdg: First claim made on\")"
   ]
  },
  {
   "cell_type": "code",
   "execution_count": 19,
   "metadata": {},
   "outputs": [],
   "source": [
    "def spellcheck(text):\n",
    "    return  re.sub(r'[^a-z]', '', text)"
   ]
  },
  {
   "cell_type": "code",
   "execution_count": 20,
   "metadata": {},
   "outputs": [],
   "source": [
    "def preprocess(text):\n",
    "    text = remove_url(text)\n",
    "    text = rem_user(text)\n",
    "    result = []\n",
    "    for token in gensim.utils.simple_preprocess(text):\n",
    "        if token not in gensim.parsing.preprocessing.STOPWORDS and len(token) > 3:\n",
    "            lem = lemmatize(token)\n",
    "            spl = spellcheck(lem)\n",
    "            if len(spl) >2:\n",
    "                result.append(spl)\n",
    "    return result"
   ]
  },
  {
   "cell_type": "code",
   "execution_count": 21,
   "metadata": {},
   "outputs": [
    {
     "data": {
      "text/plain": [
       "'edennnswnefne'"
      ]
     },
     "execution_count": 21,
     "metadata": {},
     "output_type": "execute_result"
    }
   ],
   "source": [
    "spellcheck(\"edennnswn#21efne\")"
   ]
  },
  {
   "cell_type": "code",
   "execution_count": 22,
   "metadata": {},
   "outputs": [
    {
     "data": {
      "text/plain": [
       "['claim', 'sleep']"
      ]
     },
     "execution_count": 22,
     "metadata": {},
     "output_type": "execute_result"
    }
   ],
   "source": [
    "preprocess(\"RT @centerofright: First claim sleep  made on23 https://hghh.vojmn\")"
   ]
  },
  {
   "cell_type": "code",
   "execution_count": 23,
   "metadata": {},
   "outputs": [
    {
     "name": "stdout",
     "output_type": "stream",
     "text": [
      "original document: \n",
      "['RT', '@centerofright:', 'First', 'claim', 'made', 'on', '#AyushmanBharat', '-', 'Great', 'start', 'to', '#ModiCare', 'ä\\x81_@narendramodiä\\x81©', '-', 'Fittingly', '-', 'it', 'was', 'on', 'birth', 'of', 'a', 'Girl', 'Cäó_']\n",
      "\n",
      "\n",
      " tokenized and lemmatized document: \n",
      "['claim', 'great', 'start', 'fittingly', 'birth', 'girl']\n"
     ]
    }
   ],
   "source": [
    "doc_sample = document['text'][33]\n",
    "print('original document: ')\n",
    "words = []\n",
    "for word in doc_sample.split(\" \"):\n",
    "    words.append(word)\n",
    "print(words)\n",
    "print('\\n\\n tokenized and lemmatized document: ')\n",
    "print(preprocess(doc_sample))"
   ]
  },
  {
   "cell_type": "code",
   "execution_count": 24,
   "metadata": {},
   "outputs": [],
   "source": [
    "processed_docs = document\n",
    "processed_docs['text'] = processed_docs['text'].map(preprocess)\n"
   ]
  },
  {
   "cell_type": "code",
   "execution_count": 25,
   "metadata": {},
   "outputs": [
    {
     "data": {
      "text/html": [
       "<div>\n",
       "<style scoped>\n",
       "    .dataframe tbody tr th:only-of-type {\n",
       "        vertical-align: middle;\n",
       "    }\n",
       "\n",
       "    .dataframe tbody tr th {\n",
       "        vertical-align: top;\n",
       "    }\n",
       "\n",
       "    .dataframe thead th {\n",
       "        text-align: right;\n",
       "    }\n",
       "</style>\n",
       "<table border=\"1\" class=\"dataframe\">\n",
       "  <thead>\n",
       "    <tr style=\"text-align: right;\">\n",
       "      <th></th>\n",
       "      <th>text</th>\n",
       "      <th>index</th>\n",
       "      <th>datetime</th>\n",
       "    </tr>\n",
       "  </thead>\n",
       "  <tbody>\n",
       "    <tr>\n",
       "      <th>0</th>\n",
       "      <td>[modi, ayushman, bharat, bear, caesarean, sect...</td>\n",
       "      <td>0</td>\n",
       "      <td>Sat Sep 01 23:58:23 +0000 2018</td>\n",
       "    </tr>\n",
       "    <tr>\n",
       "      <th>1</th>\n",
       "      <td>[claim, great, start, fittingly, birth, girl]</td>\n",
       "      <td>1</td>\n",
       "      <td>Sat Sep 01 23:56:53 +0000 2018</td>\n",
       "    </tr>\n",
       "    <tr>\n",
       "      <th>2</th>\n",
       "      <td>[claim, raise, baby, girl, bear, caesarean, se...</td>\n",
       "      <td>2</td>\n",
       "      <td>Sat Sep 01 23:54:54 +0000 2018</td>\n",
       "    </tr>\n",
       "    <tr>\n",
       "      <th>3</th>\n",
       "      <td>[claim, great, start, fittingly, birth, girl]</td>\n",
       "      <td>3</td>\n",
       "      <td>Sat Sep 01 23:53:54 +0000 2018</td>\n",
       "    </tr>\n",
       "    <tr>\n",
       "      <th>4</th>\n",
       "      <td>[claim, great, start, fittingly, birth, girl]</td>\n",
       "      <td>4</td>\n",
       "      <td>Sat Sep 01 23:52:37 +0000 2018</td>\n",
       "    </tr>\n",
       "    <tr>\n",
       "      <th>5</th>\n",
       "      <td>[claim, raise, ayushman, bharat, birth, girl, ...</td>\n",
       "      <td>5</td>\n",
       "      <td>Sat Sep 01 23:48:16 +0000 2018</td>\n",
       "    </tr>\n",
       "    <tr>\n",
       "      <th>6</th>\n",
       "      <td>[ayushman, bharat, bear, caesarean, section, e...</td>\n",
       "      <td>6</td>\n",
       "      <td>Sat Sep 01 23:44:36 +0000 2018</td>\n",
       "    </tr>\n",
       "    <tr>\n",
       "      <th>7</th>\n",
       "      <td>[claim, great, start, fittingly, birth, girl]</td>\n",
       "      <td>7</td>\n",
       "      <td>Sat Sep 01 23:44:14 +0000 2018</td>\n",
       "    </tr>\n",
       "    <tr>\n",
       "      <th>8</th>\n",
       "      <td>[claim, raise, baby, girl, bear, caesarean, se...</td>\n",
       "      <td>8</td>\n",
       "      <td>Sat Sep 01 23:42:51 +0000 2018</td>\n",
       "    </tr>\n",
       "    <tr>\n",
       "      <th>9</th>\n",
       "      <td>[put, ayushman, bharat, delhi, jeopardy, deman...</td>\n",
       "      <td>9</td>\n",
       "      <td>Sat Sep 01 23:36:07 +0000 2018</td>\n",
       "    </tr>\n",
       "    <tr>\n",
       "      <th>10</th>\n",
       "      <td>[claim, great, start, fittingly, birth, girl]</td>\n",
       "      <td>10</td>\n",
       "      <td>Sat Sep 01 23:33:02 +0000 2018</td>\n",
       "    </tr>\n",
       "    <tr>\n",
       "      <th>11</th>\n",
       "      <td>[claim, great, start, fittingly, birth, girl]</td>\n",
       "      <td>11</td>\n",
       "      <td>Sat Sep 01 23:30:42 +0000 2018</td>\n",
       "    </tr>\n",
       "    <tr>\n",
       "      <th>12</th>\n",
       "      <td>[claim, great, start, fittingly, birth, girl]</td>\n",
       "      <td>12</td>\n",
       "      <td>Sat Sep 01 23:28:20 +0000 2018</td>\n",
       "    </tr>\n",
       "    <tr>\n",
       "      <th>13</th>\n",
       "      <td>[claim, great, start, fittingly, birth, girl]</td>\n",
       "      <td>13</td>\n",
       "      <td>Sat Sep 01 23:27:25 +0000 2018</td>\n",
       "    </tr>\n",
       "    <tr>\n",
       "      <th>14</th>\n",
       "      <td>[claim, great, start, fittingly, birth, girl]</td>\n",
       "      <td>14</td>\n",
       "      <td>Sat Sep 01 23:24:16 +0000 2018</td>\n",
       "    </tr>\n",
       "    <tr>\n",
       "      <th>15</th>\n",
       "      <td>[claim, great, start, fittingly, birth, girl]</td>\n",
       "      <td>15</td>\n",
       "      <td>Sat Sep 01 23:23:13 +0000 2018</td>\n",
       "    </tr>\n",
       "    <tr>\n",
       "      <th>16</th>\n",
       "      <td>[claim, great, start, fittingly, birth, girl]</td>\n",
       "      <td>16</td>\n",
       "      <td>Sat Sep 01 23:20:40 +0000 2018</td>\n",
       "    </tr>\n",
       "    <tr>\n",
       "      <th>17</th>\n",
       "      <td>[claim, raise, baby, girl, bear, caesarean, se...</td>\n",
       "      <td>17</td>\n",
       "      <td>Sat Sep 01 23:19:07 +0000 2018</td>\n",
       "    </tr>\n",
       "    <tr>\n",
       "      <th>18</th>\n",
       "      <td>[claim, great, start, fittingly, birth, girl]</td>\n",
       "      <td>18</td>\n",
       "      <td>Sat Sep 01 23:16:15 +0000 2018</td>\n",
       "    </tr>\n",
       "    <tr>\n",
       "      <th>19</th>\n",
       "      <td>[claim, raise, today, baby, girl, bear, caesar...</td>\n",
       "      <td>19</td>\n",
       "      <td>Sat Sep 01 23:14:54 +0000 2018</td>\n",
       "    </tr>\n",
       "    <tr>\n",
       "      <th>20</th>\n",
       "      <td>[mission, director, organise, yoga, encouragem...</td>\n",
       "      <td>20</td>\n",
       "      <td>Sat Sep 01 23:14:34 +0000 2018</td>\n",
       "    </tr>\n",
       "    <tr>\n",
       "      <th>21</th>\n",
       "      <td>[claim, great, start, fittingly, birth, girl]</td>\n",
       "      <td>21</td>\n",
       "      <td>Sat Sep 01 23:07:59 +0000 2018</td>\n",
       "    </tr>\n",
       "    <tr>\n",
       "      <th>22</th>\n",
       "      <td>[days, launch, ayushman, bharat, baby, karishma]</td>\n",
       "      <td>22</td>\n",
       "      <td>Sat Sep 01 23:05:52 +0000 2018</td>\n",
       "    </tr>\n",
       "    <tr>\n",
       "      <th>23</th>\n",
       "      <td>[days, launch, ayushman, bharat, baby, karishma]</td>\n",
       "      <td>23</td>\n",
       "      <td>Sat Sep 01 23:05:24 +0000 2018</td>\n",
       "    </tr>\n",
       "    <tr>\n",
       "      <th>24</th>\n",
       "      <td>[claim, raise, baby, girl, bear, caesarean, se...</td>\n",
       "      <td>24</td>\n",
       "      <td>Sat Sep 01 23:04:07 +0000 2018</td>\n",
       "    </tr>\n",
       "    <tr>\n",
       "      <th>25</th>\n",
       "      <td>[claim, great, start, fittingly, birth, girl]</td>\n",
       "      <td>25</td>\n",
       "      <td>Sat Sep 01 23:03:36 +0000 2018</td>\n",
       "    </tr>\n",
       "    <tr>\n",
       "      <th>26</th>\n",
       "      <td>[claim, great, start, fittingly, birth, girl]</td>\n",
       "      <td>26</td>\n",
       "      <td>Sat Sep 01 23:02:29 +0000 2018</td>\n",
       "    </tr>\n",
       "    <tr>\n",
       "      <th>27</th>\n",
       "      <td>[claim, raise, baby, girl, bear, caesarean, se...</td>\n",
       "      <td>27</td>\n",
       "      <td>Sat Sep 01 22:58:18 +0000 2018</td>\n",
       "    </tr>\n",
       "    <tr>\n",
       "      <th>28</th>\n",
       "      <td>[claim, raise, baby, girl, bear, caesarean, se...</td>\n",
       "      <td>28</td>\n",
       "      <td>Sat Sep 01 22:49:36 +0000 2018</td>\n",
       "    </tr>\n",
       "    <tr>\n",
       "      <th>29</th>\n",
       "      <td>[mega, health, plan, cripple, insist, flagship...</td>\n",
       "      <td>29</td>\n",
       "      <td>Sat Sep 01 22:46:09 +0000 2018</td>\n",
       "    </tr>\n",
       "    <tr>\n",
       "      <th>...</th>\n",
       "      <td>...</td>\n",
       "      <td>...</td>\n",
       "      <td>...</td>\n",
       "    </tr>\n",
       "    <tr>\n",
       "      <th>1970</th>\n",
       "      <td>[ayushma, plan, typical, modi, idea, impossibl...</td>\n",
       "      <td>1970</td>\n",
       "      <td>Tue Sep 04 04:54:57 +0000 2018</td>\n",
       "    </tr>\n",
       "    <tr>\n",
       "      <th>1971</th>\n",
       "      <td>[namo, app]</td>\n",
       "      <td>1971</td>\n",
       "      <td>Tue Sep 04 04:54:47 +0000 2018</td>\n",
       "    </tr>\n",
       "    <tr>\n",
       "      <th>1972</th>\n",
       "      <td>[claim, raise, baby, girl, bear, caesarean, se...</td>\n",
       "      <td>1972</td>\n",
       "      <td>Tue Sep 04 04:53:45 +0000 2018</td>\n",
       "    </tr>\n",
       "    <tr>\n",
       "      <th>1973</th>\n",
       "      <td>[karishma, karnal, india, beneficiary]</td>\n",
       "      <td>1973</td>\n",
       "      <td>Tue Sep 04 04:52:50 +0000 2018</td>\n",
       "    </tr>\n",
       "    <tr>\n",
       "      <th>1974</th>\n",
       "      <td>[pragati, session, today, review, aspects, rel...</td>\n",
       "      <td>1974</td>\n",
       "      <td>Tue Sep 04 04:52:35 +0000 2018</td>\n",
       "    </tr>\n",
       "    <tr>\n",
       "      <th>1975</th>\n",
       "      <td>[pragati, session, today, review, aspects, rel...</td>\n",
       "      <td>1975</td>\n",
       "      <td>Tue Sep 04 04:52:35 +0000 2018</td>\n",
       "    </tr>\n",
       "    <tr>\n",
       "      <th>1976</th>\n",
       "      <td>[haryana, girl, india, newborn, beneficiary, a...</td>\n",
       "      <td>1976</td>\n",
       "      <td>Tue Sep 04 04:52:07 +0000 2018</td>\n",
       "    </tr>\n",
       "    <tr>\n",
       "      <th>1977</th>\n",
       "      <td>[write, prophesy, ayushman, bharat, health, in...</td>\n",
       "      <td>1977</td>\n",
       "      <td>Tue Sep 04 04:50:09 +0000 2018</td>\n",
       "    </tr>\n",
       "    <tr>\n",
       "      <th>1978</th>\n",
       "      <td>[haryana, days, karishma, bear, kalpana, chawl...</td>\n",
       "      <td>1978</td>\n",
       "      <td>Tue Sep 04 04:47:40 +0000 2018</td>\n",
       "    </tr>\n",
       "    <tr>\n",
       "      <th>1979</th>\n",
       "      <td>[claim, raise, baby, girl, bear, caesarean, se...</td>\n",
       "      <td>1979</td>\n",
       "      <td>Tue Sep 04 04:46:39 +0000 2018</td>\n",
       "    </tr>\n",
       "    <tr>\n",
       "      <th>1980</th>\n",
       "      <td>[karishma, karnal, india, beneficiary]</td>\n",
       "      <td>1980</td>\n",
       "      <td>Tue Sep 04 04:45:28 +0000 2018</td>\n",
       "    </tr>\n",
       "    <tr>\n",
       "      <th>1981</th>\n",
       "      <td>[baby, angel, yojna, haryana, baby, karishma, ...</td>\n",
       "      <td>1981</td>\n",
       "      <td>Tue Sep 04 04:43:45 +0000 2018</td>\n",
       "    </tr>\n",
       "    <tr>\n",
       "      <th>1982</th>\n",
       "      <td>[haryana, girl, india, newborn, beneficiary, a...</td>\n",
       "      <td>1982</td>\n",
       "      <td>Tue Sep 04 04:41:51 +0000 2018</td>\n",
       "    </tr>\n",
       "    <tr>\n",
       "      <th>1983</th>\n",
       "      <td>[build, toilets, modi, admi, vulnerable, disea...</td>\n",
       "      <td>1983</td>\n",
       "      <td>Tue Sep 04 04:40:07 +0000 2018</td>\n",
       "    </tr>\n",
       "    <tr>\n",
       "      <th>1984</th>\n",
       "      <td>[haryana, girl, india, newborn, beneficiary, a...</td>\n",
       "      <td>1984</td>\n",
       "      <td>Tue Sep 04 04:39:51 +0000 2018</td>\n",
       "    </tr>\n",
       "    <tr>\n",
       "      <th>1985</th>\n",
       "      <td>[bear, independence, haryana, girl, india, new...</td>\n",
       "      <td>1985</td>\n",
       "      <td>Tue Sep 04 04:39:45 +0000 2018</td>\n",
       "    </tr>\n",
       "    <tr>\n",
       "      <th>1986</th>\n",
       "      <td>[haryana, girl, india, newborn, beneficiary, a...</td>\n",
       "      <td>1986</td>\n",
       "      <td>Tue Sep 04 04:38:03 +0000 2018</td>\n",
       "    </tr>\n",
       "    <tr>\n",
       "      <th>1987</th>\n",
       "      <td>[haryana, girl, india, newborn, beneficiary, a...</td>\n",
       "      <td>1987</td>\n",
       "      <td>Tue Sep 04 04:37:53 +0000 2018</td>\n",
       "    </tr>\n",
       "    <tr>\n",
       "      <th>1988</th>\n",
       "      <td>[haryana, girl, india, newborn, beneficiary, a...</td>\n",
       "      <td>1988</td>\n",
       "      <td>Tue Sep 04 04:37:40 +0000 2018</td>\n",
       "    </tr>\n",
       "    <tr>\n",
       "      <th>1989</th>\n",
       "      <td>[haryana, girl, india, newborn, beneficiary, a...</td>\n",
       "      <td>1989</td>\n",
       "      <td>Tue Sep 04 04:37:04 +0000 2018</td>\n",
       "    </tr>\n",
       "    <tr>\n",
       "      <th>1990</th>\n",
       "      <td>[pilot, ayushman, bharat, yojana, inaugurate, ...</td>\n",
       "      <td>1990</td>\n",
       "      <td>Tue Sep 04 04:33:01 +0000 2018</td>\n",
       "    </tr>\n",
       "    <tr>\n",
       "      <th>1991</th>\n",
       "      <td>[claim, raise, baby, girl, bear, caesarean, se...</td>\n",
       "      <td>1991</td>\n",
       "      <td>Tue Sep 04 04:32:24 +0000 2018</td>\n",
       "    </tr>\n",
       "    <tr>\n",
       "      <th>1992</th>\n",
       "      <td>[haryana, girl, india, newborn, beneficiary, a...</td>\n",
       "      <td>1992</td>\n",
       "      <td>Tue Sep 04 04:31:11 +0000 2018</td>\n",
       "    </tr>\n",
       "    <tr>\n",
       "      <th>1993</th>\n",
       "      <td>[haryana, girl, india, newborn, beneficiary, a...</td>\n",
       "      <td>1993</td>\n",
       "      <td>Tue Sep 04 04:30:03 +0000 2018</td>\n",
       "    </tr>\n",
       "    <tr>\n",
       "      <th>1994</th>\n",
       "      <td>[pilot, ayushman, bharat, yojana, inaugurate, ...</td>\n",
       "      <td>1994</td>\n",
       "      <td>Tue Sep 04 04:28:51 +0000 2018</td>\n",
       "    </tr>\n",
       "    <tr>\n",
       "      <th>1995</th>\n",
       "      <td>[bear, independence, haryana, girl, india, new...</td>\n",
       "      <td>1995</td>\n",
       "      <td>Tue Sep 04 04:27:18 +0000 2018</td>\n",
       "    </tr>\n",
       "    <tr>\n",
       "      <th>1996</th>\n",
       "      <td>[haryana, girl, india, newborn, beneficiary, a...</td>\n",
       "      <td>1996</td>\n",
       "      <td>Tue Sep 04 04:25:55 +0000 2018</td>\n",
       "    </tr>\n",
       "    <tr>\n",
       "      <th>1997</th>\n",
       "      <td>[karishma, karnal, india, beneficiary]</td>\n",
       "      <td>1997</td>\n",
       "      <td>Tue Sep 04 04:25:27 +0000 2018</td>\n",
       "    </tr>\n",
       "    <tr>\n",
       "      <th>1998</th>\n",
       "      <td>[haryana, girl, india, newborn, beneficiary, a...</td>\n",
       "      <td>1998</td>\n",
       "      <td>Tue Sep 04 04:24:39 +0000 2018</td>\n",
       "    </tr>\n",
       "    <tr>\n",
       "      <th>1999</th>\n",
       "      <td>[doctor, think, price, healthcare, business, s...</td>\n",
       "      <td>1999</td>\n",
       "      <td>Tue Sep 04 04:23:56 +0000 2018</td>\n",
       "    </tr>\n",
       "  </tbody>\n",
       "</table>\n",
       "<p>2000 rows × 3 columns</p>\n",
       "</div>"
      ],
      "text/plain": [
       "                                                   text  index  \\\n",
       "0     [modi, ayushman, bharat, bear, caesarean, sect...      0   \n",
       "1         [claim, great, start, fittingly, birth, girl]      1   \n",
       "2     [claim, raise, baby, girl, bear, caesarean, se...      2   \n",
       "3         [claim, great, start, fittingly, birth, girl]      3   \n",
       "4         [claim, great, start, fittingly, birth, girl]      4   \n",
       "5     [claim, raise, ayushman, bharat, birth, girl, ...      5   \n",
       "6     [ayushman, bharat, bear, caesarean, section, e...      6   \n",
       "7         [claim, great, start, fittingly, birth, girl]      7   \n",
       "8     [claim, raise, baby, girl, bear, caesarean, se...      8   \n",
       "9     [put, ayushman, bharat, delhi, jeopardy, deman...      9   \n",
       "10        [claim, great, start, fittingly, birth, girl]     10   \n",
       "11        [claim, great, start, fittingly, birth, girl]     11   \n",
       "12        [claim, great, start, fittingly, birth, girl]     12   \n",
       "13        [claim, great, start, fittingly, birth, girl]     13   \n",
       "14        [claim, great, start, fittingly, birth, girl]     14   \n",
       "15        [claim, great, start, fittingly, birth, girl]     15   \n",
       "16        [claim, great, start, fittingly, birth, girl]     16   \n",
       "17    [claim, raise, baby, girl, bear, caesarean, se...     17   \n",
       "18        [claim, great, start, fittingly, birth, girl]     18   \n",
       "19    [claim, raise, today, baby, girl, bear, caesar...     19   \n",
       "20    [mission, director, organise, yoga, encouragem...     20   \n",
       "21        [claim, great, start, fittingly, birth, girl]     21   \n",
       "22     [days, launch, ayushman, bharat, baby, karishma]     22   \n",
       "23     [days, launch, ayushman, bharat, baby, karishma]     23   \n",
       "24    [claim, raise, baby, girl, bear, caesarean, se...     24   \n",
       "25        [claim, great, start, fittingly, birth, girl]     25   \n",
       "26        [claim, great, start, fittingly, birth, girl]     26   \n",
       "27    [claim, raise, baby, girl, bear, caesarean, se...     27   \n",
       "28    [claim, raise, baby, girl, bear, caesarean, se...     28   \n",
       "29    [mega, health, plan, cripple, insist, flagship...     29   \n",
       "...                                                 ...    ...   \n",
       "1970  [ayushma, plan, typical, modi, idea, impossibl...   1970   \n",
       "1971                                        [namo, app]   1971   \n",
       "1972  [claim, raise, baby, girl, bear, caesarean, se...   1972   \n",
       "1973             [karishma, karnal, india, beneficiary]   1973   \n",
       "1974  [pragati, session, today, review, aspects, rel...   1974   \n",
       "1975  [pragati, session, today, review, aspects, rel...   1975   \n",
       "1976  [haryana, girl, india, newborn, beneficiary, a...   1976   \n",
       "1977  [write, prophesy, ayushman, bharat, health, in...   1977   \n",
       "1978  [haryana, days, karishma, bear, kalpana, chawl...   1978   \n",
       "1979  [claim, raise, baby, girl, bear, caesarean, se...   1979   \n",
       "1980             [karishma, karnal, india, beneficiary]   1980   \n",
       "1981  [baby, angel, yojna, haryana, baby, karishma, ...   1981   \n",
       "1982  [haryana, girl, india, newborn, beneficiary, a...   1982   \n",
       "1983  [build, toilets, modi, admi, vulnerable, disea...   1983   \n",
       "1984  [haryana, girl, india, newborn, beneficiary, a...   1984   \n",
       "1985  [bear, independence, haryana, girl, india, new...   1985   \n",
       "1986  [haryana, girl, india, newborn, beneficiary, a...   1986   \n",
       "1987  [haryana, girl, india, newborn, beneficiary, a...   1987   \n",
       "1988  [haryana, girl, india, newborn, beneficiary, a...   1988   \n",
       "1989  [haryana, girl, india, newborn, beneficiary, a...   1989   \n",
       "1990  [pilot, ayushman, bharat, yojana, inaugurate, ...   1990   \n",
       "1991  [claim, raise, baby, girl, bear, caesarean, se...   1991   \n",
       "1992  [haryana, girl, india, newborn, beneficiary, a...   1992   \n",
       "1993  [haryana, girl, india, newborn, beneficiary, a...   1993   \n",
       "1994  [pilot, ayushman, bharat, yojana, inaugurate, ...   1994   \n",
       "1995  [bear, independence, haryana, girl, india, new...   1995   \n",
       "1996  [haryana, girl, india, newborn, beneficiary, a...   1996   \n",
       "1997             [karishma, karnal, india, beneficiary]   1997   \n",
       "1998  [haryana, girl, india, newborn, beneficiary, a...   1998   \n",
       "1999  [doctor, think, price, healthcare, business, s...   1999   \n",
       "\n",
       "                            datetime  \n",
       "0     Sat Sep 01 23:58:23 +0000 2018  \n",
       "1     Sat Sep 01 23:56:53 +0000 2018  \n",
       "2     Sat Sep 01 23:54:54 +0000 2018  \n",
       "3     Sat Sep 01 23:53:54 +0000 2018  \n",
       "4     Sat Sep 01 23:52:37 +0000 2018  \n",
       "5     Sat Sep 01 23:48:16 +0000 2018  \n",
       "6     Sat Sep 01 23:44:36 +0000 2018  \n",
       "7     Sat Sep 01 23:44:14 +0000 2018  \n",
       "8     Sat Sep 01 23:42:51 +0000 2018  \n",
       "9     Sat Sep 01 23:36:07 +0000 2018  \n",
       "10    Sat Sep 01 23:33:02 +0000 2018  \n",
       "11    Sat Sep 01 23:30:42 +0000 2018  \n",
       "12    Sat Sep 01 23:28:20 +0000 2018  \n",
       "13    Sat Sep 01 23:27:25 +0000 2018  \n",
       "14    Sat Sep 01 23:24:16 +0000 2018  \n",
       "15    Sat Sep 01 23:23:13 +0000 2018  \n",
       "16    Sat Sep 01 23:20:40 +0000 2018  \n",
       "17    Sat Sep 01 23:19:07 +0000 2018  \n",
       "18    Sat Sep 01 23:16:15 +0000 2018  \n",
       "19    Sat Sep 01 23:14:54 +0000 2018  \n",
       "20    Sat Sep 01 23:14:34 +0000 2018  \n",
       "21    Sat Sep 01 23:07:59 +0000 2018  \n",
       "22    Sat Sep 01 23:05:52 +0000 2018  \n",
       "23    Sat Sep 01 23:05:24 +0000 2018  \n",
       "24    Sat Sep 01 23:04:07 +0000 2018  \n",
       "25    Sat Sep 01 23:03:36 +0000 2018  \n",
       "26    Sat Sep 01 23:02:29 +0000 2018  \n",
       "27    Sat Sep 01 22:58:18 +0000 2018  \n",
       "28    Sat Sep 01 22:49:36 +0000 2018  \n",
       "29    Sat Sep 01 22:46:09 +0000 2018  \n",
       "...                              ...  \n",
       "1970  Tue Sep 04 04:54:57 +0000 2018  \n",
       "1971  Tue Sep 04 04:54:47 +0000 2018  \n",
       "1972  Tue Sep 04 04:53:45 +0000 2018  \n",
       "1973  Tue Sep 04 04:52:50 +0000 2018  \n",
       "1974  Tue Sep 04 04:52:35 +0000 2018  \n",
       "1975  Tue Sep 04 04:52:35 +0000 2018  \n",
       "1976  Tue Sep 04 04:52:07 +0000 2018  \n",
       "1977  Tue Sep 04 04:50:09 +0000 2018  \n",
       "1978  Tue Sep 04 04:47:40 +0000 2018  \n",
       "1979  Tue Sep 04 04:46:39 +0000 2018  \n",
       "1980  Tue Sep 04 04:45:28 +0000 2018  \n",
       "1981  Tue Sep 04 04:43:45 +0000 2018  \n",
       "1982  Tue Sep 04 04:41:51 +0000 2018  \n",
       "1983  Tue Sep 04 04:40:07 +0000 2018  \n",
       "1984  Tue Sep 04 04:39:51 +0000 2018  \n",
       "1985  Tue Sep 04 04:39:45 +0000 2018  \n",
       "1986  Tue Sep 04 04:38:03 +0000 2018  \n",
       "1987  Tue Sep 04 04:37:53 +0000 2018  \n",
       "1988  Tue Sep 04 04:37:40 +0000 2018  \n",
       "1989  Tue Sep 04 04:37:04 +0000 2018  \n",
       "1990  Tue Sep 04 04:33:01 +0000 2018  \n",
       "1991  Tue Sep 04 04:32:24 +0000 2018  \n",
       "1992  Tue Sep 04 04:31:11 +0000 2018  \n",
       "1993  Tue Sep 04 04:30:03 +0000 2018  \n",
       "1994  Tue Sep 04 04:28:51 +0000 2018  \n",
       "1995  Tue Sep 04 04:27:18 +0000 2018  \n",
       "1996  Tue Sep 04 04:25:55 +0000 2018  \n",
       "1997  Tue Sep 04 04:25:27 +0000 2018  \n",
       "1998  Tue Sep 04 04:24:39 +0000 2018  \n",
       "1999  Tue Sep 04 04:23:56 +0000 2018  \n",
       "\n",
       "[2000 rows x 3 columns]"
      ]
     },
     "execution_count": 25,
     "metadata": {},
     "output_type": "execute_result"
    }
   ],
   "source": [
    "processed_docs"
   ]
  },
  {
   "cell_type": "code",
   "execution_count": 26,
   "metadata": {},
   "outputs": [],
   "source": [
    "\n",
    "import re\n",
    "from collections import Counter\n",
    "import datetime\n"
   ]
  },
  {
   "cell_type": "code",
   "execution_count": 27,
   "metadata": {},
   "outputs": [],
   "source": [
    "def concat(docs):\n",
    "    string = \"\"\n",
    "    for w in doc:\n",
    "        string= string+w + \" \"\n",
    "    return string\n"
   ]
  },
  {
   "cell_type": "code",
   "execution_count": 28,
   "metadata": {},
   "outputs": [],
   "source": [
    "def freq(string):\n",
    "    return Counter(re.findall(r\"([A-Za-z]+'[A-Za-z]|[A-Za-z]+)\", string))"
   ]
  },
  {
   "cell_type": "code",
   "execution_count": 29,
   "metadata": {},
   "outputs": [
    {
     "ename": "NameError",
     "evalue": "name 'doc' is not defined",
     "output_type": "error",
     "traceback": [
      "\u001b[1;31m---------------------------------------------------------------------------\u001b[0m",
      "\u001b[1;31mNameError\u001b[0m                                 Traceback (most recent call last)",
      "\u001b[1;32m<ipython-input-29-f0565209e767>\u001b[0m in \u001b[0;36m<module>\u001b[1;34m\u001b[0m\n\u001b[1;32m----> 1\u001b[1;33m \u001b[0mstr\u001b[0m \u001b[1;33m=\u001b[0m \u001b[0mconcat\u001b[0m\u001b[1;33m(\u001b[0m\u001b[0mprocessed_docs\u001b[0m\u001b[1;33m[\u001b[0m\u001b[1;34m'text'\u001b[0m\u001b[1;33m]\u001b[0m\u001b[1;33m)\u001b[0m\u001b[1;33m\u001b[0m\u001b[1;33m\u001b[0m\u001b[0m\n\u001b[0m\u001b[0;32m      2\u001b[0m \u001b[0ma\u001b[0m \u001b[1;33m=\u001b[0m \u001b[0mfreq\u001b[0m\u001b[1;33m(\u001b[0m\u001b[0mstr\u001b[0m\u001b[1;33m)\u001b[0m\u001b[1;33m\u001b[0m\u001b[1;33m\u001b[0m\u001b[0m\n",
      "\u001b[1;32m<ipython-input-27-98bcbfb80acb>\u001b[0m in \u001b[0;36mconcat\u001b[1;34m(docs)\u001b[0m\n\u001b[0;32m      1\u001b[0m \u001b[1;32mdef\u001b[0m \u001b[0mconcat\u001b[0m\u001b[1;33m(\u001b[0m\u001b[0mdocs\u001b[0m\u001b[1;33m)\u001b[0m\u001b[1;33m:\u001b[0m\u001b[1;33m\u001b[0m\u001b[1;33m\u001b[0m\u001b[0m\n\u001b[0;32m      2\u001b[0m     \u001b[0mstring\u001b[0m \u001b[1;33m=\u001b[0m \u001b[1;34m\"\"\u001b[0m\u001b[1;33m\u001b[0m\u001b[1;33m\u001b[0m\u001b[0m\n\u001b[1;32m----> 3\u001b[1;33m     \u001b[1;32mfor\u001b[0m \u001b[0mw\u001b[0m \u001b[1;32min\u001b[0m \u001b[0mdoc\u001b[0m\u001b[1;33m:\u001b[0m\u001b[1;33m\u001b[0m\u001b[1;33m\u001b[0m\u001b[0m\n\u001b[0m\u001b[0;32m      4\u001b[0m         \u001b[0mstring\u001b[0m\u001b[1;33m=\u001b[0m \u001b[0mstring\u001b[0m\u001b[1;33m+\u001b[0m\u001b[0mw\u001b[0m \u001b[1;33m+\u001b[0m \u001b[1;34m\" \"\u001b[0m\u001b[1;33m\u001b[0m\u001b[1;33m\u001b[0m\u001b[0m\n\u001b[0;32m      5\u001b[0m     \u001b[1;32mreturn\u001b[0m \u001b[0mstring\u001b[0m\u001b[1;33m\u001b[0m\u001b[1;33m\u001b[0m\u001b[0m\n",
      "\u001b[1;31mNameError\u001b[0m: name 'doc' is not defined"
     ]
    }
   ],
   "source": [
    "str = concat(processed_docs['text'])\n",
    "a = freq(str)"
   ]
  },
  {
   "cell_type": "code",
   "execution_count": null,
   "metadata": {},
   "outputs": [],
   "source": []
  },
  {
   "cell_type": "code",
   "execution_count": null,
   "metadata": {},
   "outputs": [],
   "source": []
  },
  {
   "cell_type": "code",
   "execution_count": 33,
   "metadata": {},
   "outputs": [],
   "source": [
    "from datetime import date"
   ]
  },
  {
   "cell_type": "code",
   "execution_count": 37,
   "metadata": {},
   "outputs": [],
   "source": [
    "def getDate(text):\n",
    "    d = datetime.datetime.strptime(text,\"%a %b %d %H:%M:%S %z %Y\").strftime('%d%b%Y')\n",
    "    return d\n",
    "\n",
    "def getDay(text):\n",
    "    d = datetime.datetime.strptime(text,\"%a %b %d %H:%M:%S %z %Y\").strftime('%d')\n",
    "    return d"
   ]
  },
  {
   "cell_type": "code",
   "execution_count": null,
   "metadata": {},
   "outputs": [],
   "source": [
    "getDate(\"Tue Sep 04 04:52:50 +0000 2018\")"
   ]
  },
  {
   "cell_type": "code",
   "execution_count": null,
   "metadata": {},
   "outputs": [],
   "source": [
    "result = {}\n",
    "result['01Sep2018'] = \"\"\n",
    "result['02Sep2018'] = \"\"\n",
    "result['03Sep2018'] = \"\"\n",
    "result['04Sep2018'] = \"\"\n",
    "for i, doc in enumerate(processed_docs['text']):\n",
    "    dat = getDate(processed_docs['datetime'][i])\n",
    "    result[dat] += \" \".join(doc) + \" \"\n",
    "\n"
   ]
  },
  {
   "cell_type": "code",
   "execution_count": null,
   "metadata": {},
   "outputs": [],
   "source": [
    "\n",
    "from collections import OrderedDict"
   ]
  },
  {
   "cell_type": "code",
   "execution_count": null,
   "metadata": {},
   "outputs": [],
   "source": [
    "t = \"\"\n",
    "for k, r in result.items():\n",
    "    t = freq(r)\n",
    "    result[k] = OrderedDict(sorted(t.items(), key=lambda x: x[1], reverse=True))\n",
    "    print(result[k])"
   ]
  },
  {
   "cell_type": "code",
   "execution_count": null,
   "metadata": {},
   "outputs": [],
   "source": [
    "result"
   ]
  },
  {
   "cell_type": "code",
   "execution_count": 51,
   "metadata": {},
   "outputs": [],
   "source": [
    "def count_tweets(docs):\n",
    "    tweets = [0, 0, 0, 0]\n",
    "    for x in docs:\n",
    "        t = int(getDay(x)) -1\n",
    "        tweets[t] = tweets[t] + 1\n",
    "    return tweets"
   ]
  },
  {
   "cell_type": "code",
   "execution_count": 52,
   "metadata": {},
   "outputs": [
    {
     "data": {
      "text/plain": [
       "[500, 500, 500, 500]"
      ]
     },
     "execution_count": 52,
     "metadata": {},
     "output_type": "execute_result"
    }
   ],
   "source": [
    "count_tweets(processed_docs['datetime'])"
   ]
  },
  {
   "cell_type": "code",
   "execution_count": null,
   "metadata": {},
   "outputs": [],
   "source": []
  }
 ],
 "metadata": {
  "kernelspec": {
   "display_name": "Python 3",
   "language": "python",
   "name": "python3"
  },
  "language_info": {
   "codemirror_mode": {
    "name": "ipython",
    "version": 3
   },
   "file_extension": ".py",
   "mimetype": "text/x-python",
   "name": "python",
   "nbconvert_exporter": "python",
   "pygments_lexer": "ipython3",
   "version": "3.7.3"
  }
 },
 "nbformat": 4,
 "nbformat_minor": 2
}
