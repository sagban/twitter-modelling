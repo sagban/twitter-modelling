{
 "cells": [
  {
   "cell_type": "markdown",
   "metadata": {},
   "source": [
    "import preprocess_data\n"
   ]
  },
  {
   "cell_type": "code",
   "execution_count": 1,
   "metadata": {},
   "outputs": [],
   "source": [
    "import preprocess_data"
   ]
  },
  {
   "cell_type": "code",
   "execution_count": 2,
   "metadata": {},
   "outputs": [],
   "source": [
    "fileName = \"./CSV/data1.csv\""
   ]
  },
  {
   "cell_type": "code",
   "execution_count": 3,
   "metadata": {},
   "outputs": [
    {
     "name": "stderr",
     "output_type": "stream",
     "text": [
      "[nltk_data] Downloading package wordnet to /Users/sagban/nltk_data...\n",
      "[nltk_data]   Package wordnet is already up-to-date!\n"
     ]
    }
   ],
   "source": [
    "processed_docs = preprocess_data.preprocess_data(fileName)\n",
    "# preprocess_data.clean_data(\"Modi's @Ayushman Bharat is born through caesarean section - The Economic Times https://t.co/C5AVl0RSbi\")"
   ]
  },
  {
   "cell_type": "code",
   "execution_count": 4,
   "metadata": {},
   "outputs": [
    {
     "name": "stdout",
     "output_type": "stream",
     "text": [
      "0 ayushman\n",
      "1 bear\n",
      "2 bharat\n",
      "3 caesarean\n",
      "4 economic\n",
      "5 modi\n",
      "6 section\n",
      "7 time\n",
      "8 birth\n",
      "9 c\n",
      "10 claim\n"
     ]
    }
   ],
   "source": [
    "import pandas as pd\n",
    "import gensim\n",
    "from gensim.utils import simple_preprocess\n",
    "from gensim.parsing.preprocessing import STOPWORDS\n",
    "from nltk.stem import WordNetLemmatizer, SnowballStemmer\n",
    "from nltk.stem.porter import *\n",
    "import nltk\n",
    "import numpy as np\n",
    "import re\n",
    "dictionary = gensim.corpora.Dictionary(processed_docs)\n",
    "count = 0\n",
    "for k, v in dictionary.iteritems():\n",
    "    print(k, v)\n",
    "    count += 1\n",
    "    if count > 10:\n",
    "        break"
   ]
  },
  {
   "cell_type": "code",
   "execution_count": 8,
   "metadata": {},
   "outputs": [
    {
     "data": {
      "text/plain": [
       "200    [claim, raise, baby, girl, bear, caesarean, se...\n",
       "201    [baby, karishma, karnal, haryana, arrive, clai...\n",
       "202     [claim, great, start, fittingly, birth, girl, c]\n",
       "203    [genworks, work, healthier, india, support, ay...\n",
       "204    [mission, director, organise, yoga, encouragem...\n",
       "205                                                   []\n",
       "206    [claim, raise, baby, girl, bear, caesarean, se...\n",
       "207    [claim, raise, baby, girl, bear, caesarean, se...\n",
       "208    [claim, raise, baby, girl, bear, caesarean, se...\n",
       "209    [baby, karishma, karnal, haryana, arrive, clai...\n",
       "210    [claim, raise, baby, girl, bear, caesarean, se...\n",
       "211     [claim, great, start, fittingly, birth, girl, c]\n",
       "212    [claim, raise, baby, girl, bear, caesarean, se...\n",
       "213    [claim, raise, baby, girl, bear, caesarean, se...\n",
       "214    [claim, raise, baby, girl, bear, caesarean, se...\n",
       "215     [claim, great, start, fittingly, birth, girl, c]\n",
       "216    [baby, karishma, karnal, haryana, arrive, clai...\n",
       "217    [claim, raise, today, baby, girl, bear, caesar...\n",
       "218    [panel, highlight, prin, pradeep, kumar, vyas,...\n",
       "219     [claim, great, start, fittingly, birth, girl, c]\n",
       "220    [claim, raise, baby, girl, bear, caesarean, se...\n",
       "221    [claim, raise, baby, girl, bear, caesarean, se...\n",
       "222    [baby, karishma, karnal, haryana, arrive, clai...\n",
       "223     [claim, great, start, fittingly, birth, girl, c]\n",
       "224     [claim, great, start, fittingly, birth, girl, c]\n",
       "225    [claim, raise, baby, girl, bear, caesarean, se...\n",
       "226    [claim, raise, today, baby, girl, bear, caesar...\n",
       "227                                                   []\n",
       "228    [claim, raise, baby, girl, bear, caesarean, se...\n",
       "229    [claim, raise, baby, girl, bear, caesarean, se...\n",
       "                             ...                        \n",
       "270     [claim, great, start, fittingly, birth, girl, c]\n",
       "271    [claim, raise, baby, girl, bear, caesarean, se...\n",
       "272    [baby, karishma, karnal, haryana, arrive, clai...\n",
       "273     [claim, great, start, fittingly, birth, girl, c]\n",
       "274    [claim, raise, baby, girl, bear, caesarean, se...\n",
       "275    [modi, ayushman, bharat, bear, caesarean, sect...\n",
       "276    [claim, raise, baby, girl, bear, caesarean, se...\n",
       "277    [baby, karishma, karnal, haryana, arrive, clai...\n",
       "278    [baby, karishma, karnal, haryana, arrive, clai...\n",
       "279    [claim, raise, baby, girl, bear, caesarean, se...\n",
       "280    [baby, karishma, karnal, haryana, arrive, clai...\n",
       "281    [claim, raise, baby, girl, bear, caesarean, se...\n",
       "282     [claim, great, start, fittingly, birth, girl, c]\n",
       "283    [claim, raise, baby, girl, bear, caesarean, se...\n",
       "284    [claim, raise, baby, girl, bear, caesarean, se...\n",
       "285    [claim, raise, baby, girl, bear, caesarean, se...\n",
       "286     [claim, great, start, fittingly, birth, girl, c]\n",
       "287    [claim, raise, baby, girl, bear, caesarean, se...\n",
       "288     [claim, great, start, fittingly, birth, girl, c]\n",
       "289    [claim, raise, baby, girl, bear, caesarean, se...\n",
       "290    [claim, raise, baby, girl, bear, caesarean, se...\n",
       "291    [modicare, world, biggest, public, health, ins...\n",
       "292     [claim, great, start, fittingly, birth, girl, c]\n",
       "293     [claim, great, start, fittingly, birth, girl, c]\n",
       "294     [claim, great, start, fittingly, birth, girl, c]\n",
       "295    [claim, raise, baby, girl, bear, caesarean, se...\n",
       "296    [claim, raise, baby, girl, bear, caesarean, se...\n",
       "297     [claim, great, start, fittingly, birth, girl, c]\n",
       "298    [claim, raise, baby, girl, bear, caesarean, se...\n",
       "299    [claim, raise, baby, girl, bear, caesarean, se...\n",
       "Name: text, Length: 100, dtype: object"
      ]
     },
     "execution_count": 8,
     "metadata": {},
     "output_type": "execute_result"
    }
   ],
   "source": [
    "processed_docs[200:300]"
   ]
  },
  {
   "cell_type": "code",
   "execution_count": 9,
   "metadata": {},
   "outputs": [],
   "source": [
    "dictionary.filter_extremes(no_below=15, no_above=0.5, keep_n=100000)"
   ]
  },
  {
   "cell_type": "code",
   "execution_count": 10,
   "metadata": {},
   "outputs": [],
   "source": [
    "bow_corpus = [dictionary.doc2bow(doc) for doc in processed_docs]"
   ]
  },
  {
   "cell_type": "code",
   "execution_count": 11,
   "metadata": {},
   "outputs": [
    {
     "data": {
      "text/plain": [
       "[(7, 1), (8, 1), (9, 1), (10, 1), (11, 1), (12, 1), (13, 1), (14, 1)]"
      ]
     },
     "execution_count": 11,
     "metadata": {},
     "output_type": "execute_result"
    }
   ],
   "source": [
    "bow_corpus[4]"
   ]
  },
  {
   "cell_type": "code",
   "execution_count": 12,
   "metadata": {},
   "outputs": [
    {
     "name": "stdout",
     "output_type": "stream",
     "text": [
      "Word 0 (\"ayushman\") appears 1 time.\n",
      "Word 2 (\"bharat\") appears 1 time.\n",
      "Word 4 (\"http\") appears 2 time.\n",
      "Word 15 (\"babi\") appears 1 time.\n",
      "Word 29 (\"day\") appears 1 time.\n",
      "Word 30 (\"karishma\") appears 1 time.\n",
      "Word 31 (\"launch\") appears 1 time.\n"
     ]
    }
   ],
   "source": [
    "bow_doc_43 = bow_corpus[23]\n",
    "for i in range(len(bow_doc_43)):\n",
    "    print(\"Word {} (\\\"{}\\\") appears {} time.\".format(bow_doc_43[i][0], \n",
    "                                               dictionary[bow_doc_43[i][0]], \n",
    "bow_doc_43[i][1]))"
   ]
  },
  {
   "cell_type": "code",
   "execution_count": 13,
   "metadata": {},
   "outputs": [
    {
     "name": "stdout",
     "output_type": "stream",
     "text": [
      "[(0, 0.2269060927609457),\n",
      " (1, 0.27940444708392714),\n",
      " (2, 0.24386867798766684),\n",
      " (3, 0.352563920722126),\n",
      " (4, 0.2157725641208591),\n",
      " (5, 0.7205261492818588),\n",
      " (6, 0.347789876927208)]\n"
     ]
    }
   ],
   "source": [
    "from gensim import corpora, models\n",
    "\n",
    "\n",
    "tfidf = models.TfidfModel(bow_corpus)\n",
    "\n",
    "\n",
    "corpus_tfidf = tfidf[bow_corpus]\n",
    "\n",
    "from pprint import pprint\n",
    "\n",
    "\n",
    "for doc in corpus_tfidf:\n",
    "    pprint(doc)\n",
    "    break"
   ]
  },
  {
   "cell_type": "code",
   "execution_count": 14,
   "metadata": {},
   "outputs": [],
   "source": [
    "lda_model = gensim.models.LdaMulticore(bow_corpus, num_topics=10, id2word=dictionary, passes=2, workers=2)"
   ]
  },
  {
   "cell_type": "code",
   "execution_count": 15,
   "metadata": {},
   "outputs": [
    {
     "name": "stdout",
     "output_type": "stream",
     "text": [
      "Topic: 0 \n",
      "Words: 0.133*\"bear\" + 0.106*\"babi\" + 0.083*\"ayushmanbharat\" + 0.061*\"govt\" + 0.059*\"beneficiari\" + 0.051*\"modicar\" + 0.049*\"benefit\" + 0.037*\"rais\" + 0.034*\"claim\" + 0.027*\"h\"\n",
      "Topic: 1 \n",
      "Words: 0.094*\"ayushmanbharat\" + 0.094*\"claim\" + 0.057*\"babi\" + 0.057*\"bear\" + 0.056*\"rais\" + 0.056*\"caesarean\" + 0.056*\"section\" + 0.056*\"kalpana\" + 0.056*\"chawla\" + 0.056*\"hospit\"\n",
      "Topic: 2 \n",
      "Words: 0.081*\"ayushman\" + 0.081*\"bharat\" + 0.060*\"yojana\" + 0.059*\"pilot\" + 0.059*\"inaugur\" + 0.059*\"go\" + 0.059*\"hospit\" + 0.058*\"tomorrow\" + 0.058*\"balrampur\" + 0.034*\"price\"\n",
      "Topic: 3 \n",
      "Words: 0.104*\"ayushman\" + 0.090*\"babi\" + 0.070*\"bharat\" + 0.061*\"http\" + 0.043*\"beneficiari\" + 0.040*\"haryana\" + 0.038*\"karishma\" + 0.038*\"health\" + 0.035*\"yojna\" + 0.035*\"bear\"\n",
      "Topic: 4 \n",
      "Words: 0.070*\"yojana\" + 0.070*\"bharat\" + 0.070*\"ayushman\" + 0.067*\"beneficiari\" + 0.066*\"newborn\" + 0.066*\"india\" + 0.066*\"http\" + 0.066*\"haryana\" + 0.044*\"namo\" + 0.036*\"ayushmanbharat\"\n",
      "Topic: 5 \n",
      "Words: 0.071*\"beneficiari\" + 0.069*\"karishma\" + 0.068*\"ayushman\" + 0.067*\"bharat\" + 0.066*\"http\" + 0.056*\"karnal\" + 0.055*\"haryana\" + 0.042*\"scheme\" + 0.036*\"india\" + 0.035*\"babi\"\n",
      "Topic: 6 \n",
      "Words: 0.154*\"bear\" + 0.081*\"hospit\" + 0.079*\"govt\" + 0.078*\"kalpana\" + 0.078*\"chawla\" + 0.077*\"day\" + 0.077*\"haryana\" + 0.076*\"karnal\" + 0.075*\"karishma\" + 0.075*\"august\"\n",
      "Topic: 7 \n",
      "Words: 0.089*\"review\" + 0.063*\"ayushman\" + 0.061*\"bharat\" + 0.054*\"today\" + 0.053*\"http\" + 0.044*\"session\" + 0.044*\"relat\" + 0.044*\"infrastructur\" + 0.044*\"proj\" + 0.044*\"aspect\"\n",
      "Topic: 8 \n",
      "Words: 0.772*\"\" + 0.099*\"http\" + 0.027*\"namo\" + 0.008*\"upmdbtlzyz\" + 0.008*\"fsrtiiul\" + 0.007*\"ayushmanbharat\" + 0.007*\"nexbckos\" + 0.007*\"zhgbhcoaqd\" + 0.004*\"claim\" + 0.004*\"bzqbxd\"\n",
      "Topic: 9 \n",
      "Words: 0.350*\"http\" + 0.080*\"ayushman\" + 0.072*\"bharat\" + 0.065*\"india\" + 0.052*\"gxkovv\" + 0.045*\"haryana\" + 0.043*\"beneficiari\" + 0.036*\"namo\" + 0.033*\"scheme\" + 0.033*\"yojana\"\n"
     ]
    }
   ],
   "source": [
    "for idx, topic in lda_model.print_topics(-1):\n",
    "    print('Topic: {} \\nWords: {}'.format(idx, topic))"
   ]
  },
  {
   "cell_type": "code",
   "execution_count": 16,
   "metadata": {},
   "outputs": [
    {
     "name": "stdout",
     "output_type": "stream",
     "text": [
      "Topic: 0 Word: 0.109*\"govt\" + 0.092*\"bear\" + 0.078*\"day\" + 0.077*\"august\" + 0.062*\"karnal\" + 0.052*\"karishma\" + 0.046*\"kalpana\" + 0.046*\"chawla\" + 0.046*\"beneficiari\" + 0.044*\"hospit\"\n",
      "Topic: 1 Word: 0.053*\"go\" + 0.052*\"balrampur\" + 0.052*\"tomorrow\" + 0.052*\"inaugur\" + 0.052*\"pilot\" + 0.043*\"hospit\" + 0.041*\"yojana\" + 0.037*\"bharat\" + 0.035*\"ayushman\" + 0.028*\"bear\"\n",
      "Topic: 2 Word: 0.042*\"http\" + 0.041*\"gxkovv\" + 0.038*\"india\" + 0.038*\"newborn\" + 0.035*\"bharat\" + 0.033*\"yojana\" + 0.033*\"ayushman\" + 0.033*\"haryana\" + 0.032*\"review\" + 0.031*\"beneficiari\"\n",
      "Topic: 3 Word: 0.107*\"birth\" + 0.107*\"c\" + 0.107*\"fittingli\" + 0.107*\"great\" + 0.106*\"start\" + 0.105*\"modicar\" + 0.059*\"claim\" + 0.055*\"ayushmanbharat\" + 0.017*\"bharat\" + 0.017*\"http\"\n",
      "Topic: 4 Word: 0.086*\"hary\" + 0.086*\"rais\" + 0.083*\"caesarean\" + 0.082*\"section\" + 0.075*\"chawla\" + 0.075*\"kalpana\" + 0.068*\"babi\" + 0.067*\"bear\" + 0.066*\"hospit\" + 0.055*\"claim\"\n",
      "Topic: 5 Word: 0.056*\"pilot\" + 0.055*\"inaugur\" + 0.054*\"balrampur\" + 0.054*\"tomorrow\" + 0.054*\"go\" + 0.044*\"bharat\" + 0.041*\"ayushman\" + 0.040*\"join\" + 0.038*\"yojana\" + 0.035*\"\"\n",
      "Topic: 6 Word: 0.076*\"bharat\" + 0.076*\"ayushman\" + 0.073*\"india\" + 0.072*\"http\" + 0.071*\"newborn\" + 0.065*\"yojana\" + 0.062*\"haryana\" + 0.058*\"beneficiari\" + 0.044*\"namo\" + 0.032*\"modi\"\n",
      "Topic: 7 Word: 0.213*\"\" + 0.088*\"http\" + 0.054*\"india\" + 0.049*\"ojjf\" + 0.047*\"beneficiari\" + 0.041*\"namo\" + 0.040*\"karnal\" + 0.039*\"ap\" + 0.037*\"karishma\" + 0.036*\"newborn\"\n",
      "Topic: 8 Word: 0.056*\"scheme\" + 0.043*\"proud\" + 0.043*\"arriv\" + 0.043*\"congrat\" + 0.029*\"karnal\" + 0.029*\"karishma\" + 0.026*\"parti\" + 0.026*\"jeopardi\" + 0.026*\"put\" + 0.026*\"demand\"\n",
      "Topic: 9 Word: 0.058*\"\" + 0.048*\"section\" + 0.048*\"caesarean\" + 0.048*\"rais\" + 0.048*\"hary\" + 0.046*\"bear\" + 0.045*\"kalpana\" + 0.045*\"chawla\" + 0.041*\"hospit\" + 0.040*\"babi\"\n"
     ]
    }
   ],
   "source": [
    "lda_model_tfidf = gensim.models.LdaMulticore(corpus_tfidf, num_topics=10, id2word=dictionary, passes=2, workers=4)\n",
    "for idx, topic in lda_model_tfidf.print_topics(-1):\n",
    "    print('Topic: {} Word: {}'.format(idx, topic))"
   ]
  },
  {
   "cell_type": "code",
   "execution_count": 17,
   "metadata": {},
   "outputs": [
    {
     "data": {
      "text/plain": [
       "['claim',\n",
       " 'ayushmanbharat',\n",
       " 'great',\n",
       " 'start',\n",
       " 'modicar',\n",
       " 'fittingli',\n",
       " 'birth',\n",
       " 'girl',\n",
       " 'c']"
      ]
     },
     "execution_count": 17,
     "metadata": {},
     "output_type": "execute_result"
    }
   ],
   "source": [
    "processed_docs[4]"
   ]
  },
  {
   "cell_type": "code",
   "execution_count": 20,
   "metadata": {},
   "outputs": [
    {
     "name": "stdout",
     "output_type": "stream",
     "text": [
      "\n",
      "Score: 0.8999959826469421\t \n",
      "Topic: 0.094*\"ayushmanbharat\" + 0.094*\"claim\" + 0.057*\"babi\" + 0.057*\"bear\" + 0.056*\"rais\" + 0.056*\"caesarean\" + 0.056*\"section\" + 0.056*\"kalpana\" + 0.056*\"chawla\" + 0.056*\"hospit\"\n",
      "\n",
      "Score: 0.011112692765891552\t \n",
      "Topic: 0.070*\"yojana\" + 0.070*\"bharat\" + 0.070*\"ayushman\" + 0.067*\"beneficiari\" + 0.066*\"newborn\" + 0.066*\"india\" + 0.066*\"http\" + 0.066*\"haryana\" + 0.044*\"namo\" + 0.036*\"ayushmanbharat\"\n",
      "\n",
      "Score: 0.011112237349152565\t \n",
      "Topic: 0.133*\"bear\" + 0.106*\"babi\" + 0.083*\"ayushmanbharat\" + 0.061*\"govt\" + 0.059*\"beneficiari\" + 0.051*\"modicar\" + 0.049*\"benefit\" + 0.037*\"rais\" + 0.034*\"claim\" + 0.027*\"h\"\n",
      "\n",
      "Score: 0.011111481115221977\t \n",
      "Topic: 0.104*\"ayushman\" + 0.090*\"babi\" + 0.070*\"bharat\" + 0.061*\"http\" + 0.043*\"beneficiari\" + 0.040*\"haryana\" + 0.038*\"karishma\" + 0.038*\"health\" + 0.035*\"yojna\" + 0.035*\"bear\"\n",
      "\n",
      "Score: 0.011111434549093246\t \n",
      "Topic: 0.772*\"\" + 0.099*\"http\" + 0.027*\"namo\" + 0.008*\"upmdbtlzyz\" + 0.008*\"fsrtiiul\" + 0.007*\"ayushmanbharat\" + 0.007*\"nexbckos\" + 0.007*\"zhgbhcoaqd\" + 0.004*\"claim\" + 0.004*\"bzqbxd\"\n",
      "\n",
      "Score: 0.011111383326351643\t \n",
      "Topic: 0.071*\"beneficiari\" + 0.069*\"karishma\" + 0.068*\"ayushman\" + 0.067*\"bharat\" + 0.066*\"http\" + 0.056*\"karnal\" + 0.055*\"haryana\" + 0.042*\"scheme\" + 0.036*\"india\" + 0.035*\"babi\"\n",
      "\n",
      "Score: 0.011111332103610039\t \n",
      "Topic: 0.089*\"review\" + 0.063*\"ayushman\" + 0.061*\"bharat\" + 0.054*\"today\" + 0.053*\"http\" + 0.044*\"session\" + 0.044*\"relat\" + 0.044*\"infrastructur\" + 0.044*\"proj\" + 0.044*\"aspect\"\n",
      "\n",
      "Score: 0.011111162602901459\t \n",
      "Topic: 0.154*\"bear\" + 0.081*\"hospit\" + 0.079*\"govt\" + 0.078*\"kalpana\" + 0.078*\"chawla\" + 0.077*\"day\" + 0.077*\"haryana\" + 0.076*\"karnal\" + 0.075*\"karishma\" + 0.075*\"august\"\n",
      "\n",
      "Score: 0.01111114677041769\t \n",
      "Topic: 0.081*\"ayushman\" + 0.081*\"bharat\" + 0.060*\"yojana\" + 0.059*\"pilot\" + 0.059*\"inaugur\" + 0.059*\"go\" + 0.059*\"hospit\" + 0.058*\"tomorrow\" + 0.058*\"balrampur\" + 0.034*\"price\"\n",
      "\n",
      "Score: 0.011111142113804817\t \n",
      "Topic: 0.350*\"http\" + 0.080*\"ayushman\" + 0.072*\"bharat\" + 0.065*\"india\" + 0.052*\"gxkovv\" + 0.045*\"haryana\" + 0.043*\"beneficiari\" + 0.036*\"namo\" + 0.033*\"scheme\" + 0.033*\"yojana\"\n"
     ]
    }
   ],
   "source": [
    "for index, score in sorted(lda_model[bow_corpus[405]], key=lambda tup: -1*tup[1]):\n",
    "    print(\"\\nScore: {}\\t \\nTopic: {}\".format(score, lda_model.print_topic(index, 10)))"
   ]
  },
  {
   "cell_type": "code",
   "execution_count": null,
   "metadata": {},
   "outputs": [],
   "source": []
  }
 ],
 "metadata": {
  "kernelspec": {
   "display_name": "Python 3",
   "language": "python",
   "name": "python3"
  },
  "language_info": {
   "codemirror_mode": {
    "name": "ipython",
    "version": 3
   },
   "file_extension": ".py",
   "mimetype": "text/x-python",
   "name": "python",
   "nbconvert_exporter": "python",
   "pygments_lexer": "ipython3",
   "version": "3.6.4"
  }
 },
 "nbformat": 4,
 "nbformat_minor": 2
}
