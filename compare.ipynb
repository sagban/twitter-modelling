{
 "cells": [
  {
   "cell_type": "code",
   "execution_count": 1,
   "metadata": {},
   "outputs": [],
   "source": [
    "import pandas as pd\n",
    "import csv"
   ]
  },
  {
   "cell_type": "code",
   "execution_count": 2,
   "metadata": {},
   "outputs": [],
   "source": [
    "bw1 = \"results_lda/big_data1_bow.csv\"\n",
    "bw2 = \"results_lda/big_data2_bow.csv\"\n",
    "bw3 = \"results_lda/big_data3_bow.csv\"\n",
    "bw4 = \"results_lda/big_data4_bow.csv\"\n",
    "\n",
    "tf1 = \"results_lda/big_data1_tfidf.csv\"\n",
    "tf2 = \"results_lda/big_data2_tfidf.csv\"\n",
    "tf3 = \"results_lda/big_data3_tfidf.csv\"\n",
    "tf4 = \"results_lda/big_data4_tfidf.csv\"\n",
    "\n",
    "bow_files = [bw1, bw2, bw3,bw4]\n",
    "tf_files = [tf1, tf2, tf3, tf4]"
   ]
  },
  {
   "cell_type": "code",
   "execution_count": 3,
   "metadata": {},
   "outputs": [],
   "source": [
    "topics = []\n",
    "for file in tf_files:\n",
    "    with open(file, newline='') as csvfile:\n",
    "        spamreader = csv.reader(csvfile, delimiter=',')\n",
    "        topic = []\n",
    "        for row in spamreader:\n",
    "            if row[1] == 'Values':\n",
    "                continue\n",
    "            del row[0]\n",
    "            topic.append(row)\n",
    "        topics.append(topic)"
   ]
  },
  {
   "cell_type": "code",
   "execution_count": 16,
   "metadata": {},
   "outputs": [],
   "source": [
    "def isSame(a, b):\n",
    "    c = set(a).intersection(b)\n",
    "    if len(c) >= 5:\n",
    "        return True\n",
    "    return False"
   ]
  },
  {
   "cell_type": "code",
   "execution_count": 17,
   "metadata": {},
   "outputs": [],
   "source": [
    "def sameTopics(topics):\n",
    "    length = len(topics)\n",
    "    for i in range(length):\n",
    "        for idxa, a in enumerate(topics[i]):\n",
    "            leni = len(topics[i])\n",
    "            for k in range(idxa+1, leni):\n",
    "                if isSame(a,topics[i][k]):\n",
    "                        print(str(idxa+1)+\"th topic of \"+str(i+1)+\" file \\tis same as\\t \"+str(k+1)+\"th topic of \"+str(i+1)+\" file\")\n",
    "            for j in range(i+1, length):\n",
    "                for idxb, b in enumerate(topics[j]):\n",
    "                    if isSame(a,b):\n",
    "                        print(str(idxa+1)+\"th topic of \"+str(i+1)+\" file \\tis same as\\t \"+str(idxb+1)+\"th topic of \"+str(j+1)+\" file\")\n",
    "\n"
   ]
  },
  {
   "cell_type": "code",
   "execution_count": 18,
   "metadata": {
    "scrolled": true
   },
   "outputs": [
    {
     "name": "stdout",
     "output_type": "stream",
     "text": [
      "7th topic of 1 file \tis same as\t 8th topic of 1 file\n",
      "6th topic of 3 file \tis same as\t 9th topic of 4 file\n",
      "4th topic of 4 file \tis same as\t 6th topic of 4 file\n",
      "4th topic of 4 file \tis same as\t 7th topic of 4 file\n",
      "4th topic of 4 file \tis same as\t 10th topic of 4 file\n",
      "5th topic of 4 file \tis same as\t 8th topic of 4 file\n",
      "6th topic of 4 file \tis same as\t 7th topic of 4 file\n",
      "8th topic of 4 file \tis same as\t 9th topic of 4 file\n"
     ]
    }
   ],
   "source": [
    "sameTopics(topics)"
   ]
  },
  {
   "cell_type": "code",
   "execution_count": null,
   "metadata": {},
   "outputs": [],
   "source": []
  }
 ],
 "metadata": {
  "kernelspec": {
   "display_name": "Python 3",
   "language": "python",
   "name": "python3"
  },
  "language_info": {
   "codemirror_mode": {
    "name": "ipython",
    "version": 3
   },
   "file_extension": ".py",
   "mimetype": "text/x-python",
   "name": "python",
   "nbconvert_exporter": "python",
   "pygments_lexer": "ipython3",
   "version": "3.6.4"
  }
 },
 "nbformat": 4,
 "nbformat_minor": 2
}
